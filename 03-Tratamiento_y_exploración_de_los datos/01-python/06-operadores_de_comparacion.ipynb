{
 "cells": [
  {
   "cell_type": "markdown",
   "id": "e82e7532",
   "metadata": {},
   "source": [
    "## Operadores de Comparación \n",
    "\n",
    "### Objetivos\n",
    "\n",
    "    - conocer el funcionamiento de los operadores de comparación usando ints, floats y strings\n",
    "\n",
    "    --- \n",
    "\n",
    "### Desarrollo    "
   ]
  },
  {
   "cell_type": "markdown",
   "id": "3ec09007",
   "metadata": {},
   "source": [
    "Asignar valores a algunas variables para despues utilizarlas para realizar comparaciones:"
   ]
  },
  {
   "cell_type": "code",
   "execution_count": 2,
   "id": "b79ba99c",
   "metadata": {},
   "outputs": [],
   "source": [
    "var_1 = 34\n",
    "var_2 = 12\n",
    "var_3 = 23.24\n",
    "var_4 = 23.56\n",
    "var_5 = \"OK\"\n",
    "var_6 = \"ERROR\"\n",
    "var_7 = True\n",
    "var_8 = False"
   ]
  },
  {
   "cell_type": "markdown",
   "id": "5e29dee2",
   "metadata": {},
   "source": [
    "Ahora vamos a realizar algunas comparaciones para ver como funcionan los operadores relacionales"
   ]
  },
  {
   "cell_type": "code",
   "execution_count": 4,
   "id": "89bdc2a8",
   "metadata": {},
   "outputs": [
    {
     "data": {
      "text/plain": [
       "True"
      ]
     },
     "execution_count": 4,
     "metadata": {},
     "output_type": "execute_result"
    }
   ],
   "source": [
    "var_1 > var_2"
   ]
  },
  {
   "cell_type": "code",
   "execution_count": 5,
   "id": "98628af4",
   "metadata": {},
   "outputs": [
    {
     "data": {
      "text/plain": [
       "False"
      ]
     },
     "execution_count": 5,
     "metadata": {},
     "output_type": "execute_result"
    }
   ],
   "source": [
    "var_1 < var_2"
   ]
  },
  {
   "cell_type": "code",
   "execution_count": 6,
   "id": "8ac50401",
   "metadata": {},
   "outputs": [
    {
     "data": {
      "text/plain": [
       "True"
      ]
     },
     "execution_count": 6,
     "metadata": {},
     "output_type": "execute_result"
    }
   ],
   "source": [
    "var_3 < var_4"
   ]
  },
  {
   "cell_type": "code",
   "execution_count": 7,
   "id": "a59ec0d0",
   "metadata": {},
   "outputs": [
    {
     "data": {
      "text/plain": [
       "True"
      ]
     },
     "execution_count": 7,
     "metadata": {},
     "output_type": "execute_result"
    }
   ],
   "source": [
    "var_3 <= var_3"
   ]
  },
  {
   "cell_type": "code",
   "execution_count": 8,
   "id": "35bddd53",
   "metadata": {},
   "outputs": [
    {
     "data": {
      "text/plain": [
       "True"
      ]
     },
     "execution_count": 8,
     "metadata": {},
     "output_type": "execute_result"
    }
   ],
   "source": [
    "var_1 >= var_4"
   ]
  },
  {
   "cell_type": "code",
   "execution_count": 9,
   "id": "5ba667a3",
   "metadata": {},
   "outputs": [
    {
     "data": {
      "text/plain": [
       "False"
      ]
     },
     "execution_count": 9,
     "metadata": {},
     "output_type": "execute_result"
    }
   ],
   "source": [
    "var_5 == var_6"
   ]
  },
  {
   "cell_type": "code",
   "execution_count": 10,
   "id": "d8dd79da",
   "metadata": {},
   "outputs": [
    {
     "data": {
      "text/plain": [
       "False"
      ]
     },
     "execution_count": 10,
     "metadata": {},
     "output_type": "execute_result"
    }
   ],
   "source": [
    "True == False"
   ]
  },
  {
   "cell_type": "code",
   "execution_count": 11,
   "id": "3adf3f57",
   "metadata": {},
   "outputs": [
    {
     "data": {
      "text/plain": [
       "True"
      ]
     },
     "execution_count": 11,
     "metadata": {},
     "output_type": "execute_result"
    }
   ],
   "source": [
    "True > False"
   ]
  },
  {
   "cell_type": "code",
   "execution_count": 13,
   "id": "666eafc8",
   "metadata": {},
   "outputs": [
    {
     "data": {
      "text/plain": [
       "False"
      ]
     },
     "execution_count": 13,
     "metadata": {},
     "output_type": "execute_result"
    }
   ],
   "source": [
    "True < False"
   ]
  }
 ],
 "metadata": {
  "kernelspec": {
   "display_name": "Python 3",
   "language": "python",
   "name": "python3"
  },
  "language_info": {
   "codemirror_mode": {
    "name": "ipython",
    "version": 3
   },
   "file_extension": ".py",
   "mimetype": "text/x-python",
   "name": "python",
   "nbconvert_exporter": "python",
   "pygments_lexer": "ipython3",
   "version": "3.13.2"
  }
 },
 "nbformat": 4,
 "nbformat_minor": 5
}
