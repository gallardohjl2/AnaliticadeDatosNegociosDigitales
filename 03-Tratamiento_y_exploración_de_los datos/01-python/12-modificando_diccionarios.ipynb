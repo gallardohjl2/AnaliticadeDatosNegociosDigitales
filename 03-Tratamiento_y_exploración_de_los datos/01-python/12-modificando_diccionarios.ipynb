{
 "cells": [
  {
   "cell_type": "markdown",
   "id": "0456a632",
   "metadata": {},
   "source": [
    "> # Modificando Diccionarios"
   ]
  },
  {
   "cell_type": "markdown",
   "id": "0d4f3d4d",
   "metadata": {},
   "source": [
    "## 1. Objetivos\n",
    "\n",
    "- Practicar los tres métodos básicos de modificación de diccionarios: **agregar datos, modificar datos y borrar llaves**"
   ]
  },
  {
   "cell_type": "markdown",
   "id": "214898c1",
   "metadata": {},
   "source": [
    "## 2. Desarrollo\n",
    "\n",
    "Tenemos 3 maneras básicas de modificar los diccionarios\n",
    "\n",
    "---"
   ]
  },
  {
   "cell_type": "markdown",
   "id": "53019c26",
   "metadata": {},
   "source": [
    "### Agregar Datos\n",
    "\n",
    "Para agregar un dato a un diccionario ya existente, basta con llamar la llave que queremos agregar y asignar un valor"
   ]
  },
  {
   "cell_type": "code",
   "execution_count": 1,
   "id": "c19cc422",
   "metadata": {},
   "outputs": [],
   "source": [
    "from pprint import pprint"
   ]
  },
  {
   "cell_type": "code",
   "execution_count": 4,
   "id": "5ece1828",
   "metadata": {},
   "outputs": [
    {
     "name": "stdout",
     "output_type": "stream",
     "text": [
      "{'nombre': 'Maluma', 'tel': 5546352431, 'dir': {'colonia': 'El 61', 'calle': 'Pirineos', 'num': 69, 'cp': 42830}}\n"
     ]
    }
   ],
   "source": [
    "info_de_contacto = {\n",
    "\n",
    "  'nombre': 'Maluma', \n",
    "  'tel': 5546352431, \n",
    "  'dir': {\n",
    "      'colonia': 'El 61', \n",
    "      'calle': 'Pirineos', \n",
    "      'num':69, \n",
    "      'cp':42830\n",
    "  }\n",
    "}\n",
    "\n",
    "print(info_de_contacto)"
   ]
  },
  {
   "cell_type": "code",
   "execution_count": 5,
   "id": "6384305e",
   "metadata": {},
   "outputs": [
    {
     "name": "stdout",
     "output_type": "stream",
     "text": [
      "{'dir': {'calle': 'Pirineos', 'colonia': 'El 61', 'cp': 42830, 'num': 69},\n",
      " 'nombre': 'Maluma',\n",
      " 'tel': 5546352431}\n"
     ]
    }
   ],
   "source": [
    "pprint(info_de_contacto)"
   ]
  },
  {
   "cell_type": "code",
   "execution_count": 7,
   "id": "138ae78c",
   "metadata": {},
   "outputs": [],
   "source": [
    "info_de_contacto['email'] = 'Maluma_hasta_abajo@regechafa.com'"
   ]
  },
  {
   "cell_type": "code",
   "execution_count": 8,
   "id": "6e0c0601",
   "metadata": {},
   "outputs": [
    {
     "name": "stdout",
     "output_type": "stream",
     "text": [
      "{'dir': {'calle': 'Pirineos', 'colonia': 'El 61', 'cp': 42830, 'num': 69},\n",
      " 'email': 'Maluma_hasta_abajo@regechafa.com',\n",
      " 'nombre': 'Maluma',\n",
      " 'tel': 5546352431}\n"
     ]
    }
   ],
   "source": [
    "pprint(info_de_contacto)"
   ]
  },
  {
   "cell_type": "markdown",
   "id": "e34344ae",
   "metadata": {},
   "source": [
    "## Modificar pares llave-valor existentes\n",
    "\n",
    "Para modificar un par llave-valor ya existente, basta con reasignar a una llave de nuestro diccionario el nuevo valor que queremos agregar. Por ejemplo, imaginemos que esta persona cambio de dirección:"
   ]
  },
  {
   "cell_type": "code",
   "execution_count": 11,
   "id": "5e048fca",
   "metadata": {},
   "outputs": [
    {
     "name": "stdout",
     "output_type": "stream",
     "text": [
      "{'dir': {'calle': 'Progreso',\n",
      "         'colonia': 'Escandalo',\n",
      "         'cp': '11800',\n",
      "         'num': 189},\n",
      " 'email': 'Maluma_hasta_abajo@regechafa.com',\n",
      " 'nombre': 'Maluma',\n",
      " 'tel': 5546352431}\n"
     ]
    }
   ],
   "source": [
    "info_de_contacto['dir'] = {\n",
    "      'colonia': 'Escandalo', \n",
    "      'calle': 'Progreso',\n",
    "      'num':189, \n",
    "      'cp': '11800'\n",
    "\n",
    "}\n",
    "\n",
    "pprint(info_de_contacto)"
   ]
  },
  {
   "cell_type": "code",
   "execution_count": 12,
   "id": "330a58c2",
   "metadata": {},
   "outputs": [],
   "source": [
    "info_de_contacto['dir']['colonia'] = 'SalteSiPuedes'"
   ]
  },
  {
   "cell_type": "code",
   "execution_count": 13,
   "id": "373fbe09",
   "metadata": {},
   "outputs": [
    {
     "name": "stdout",
     "output_type": "stream",
     "text": [
      "{'dir': {'calle': 'Progreso',\n",
      "         'colonia': 'SalteSiPuedes',\n",
      "         'cp': '11800',\n",
      "         'num': 189},\n",
      " 'email': 'Maluma_hasta_abajo@regechafa.com',\n",
      " 'nombre': 'Maluma',\n",
      " 'tel': 5546352431}\n"
     ]
    }
   ],
   "source": [
    "pprint(info_de_contacto)"
   ]
  },
  {
   "cell_type": "markdown",
   "id": "56f82a08",
   "metadata": {},
   "source": [
    "Podemos incluso modificar estructuras de datos dentro de nuestro diccionario. Por ejemplo, ¿Qué tal si hubo un error al agregar la nueva dirección y ahora tenemos que cambiar solamente el numero:"
   ]
  },
  {
   "cell_type": "code",
   "execution_count": 14,
   "id": "4bc7eee9",
   "metadata": {},
   "outputs": [
    {
     "name": "stdout",
     "output_type": "stream",
     "text": [
      "{'dir': {'calle': 'Progreso',\n",
      "         'colonia': 'SalteSiPuedes',\n",
      "         'cp': '11800',\n",
      "         'num': 666},\n",
      " 'email': 'Maluma_hasta_abajo@regechafa.com',\n",
      " 'nombre': 'Maluma',\n",
      " 'tel': 5546352431}\n"
     ]
    }
   ],
   "source": [
    "info_de_contacto['dir']['num'] = 666\n",
    "\n",
    "pprint(info_de_contacto)"
   ]
  },
  {
   "cell_type": "markdown",
   "id": "a69831a0",
   "metadata": {},
   "source": [
    "## Eliminando datos\n",
    "\n",
    "Para eliminr datos, se puede usar el método `pop`. Como se recordara, el nombre de este método es identico al método para eliminar elementos de una lista. La diferencia es que el método `pop` de las listas recibe indices como argumentos, el método `pop` de diccionarios recibe llaves como argumentos:\n"
   ]
  },
  {
   "cell_type": "code",
   "execution_count": 15,
   "id": "2bb46a0f",
   "metadata": {},
   "outputs": [
    {
     "name": "stdout",
     "output_type": "stream",
     "text": [
      "{'dir': {'calle': 'Progreso',\n",
      "         'colonia': 'SalteSiPuedes',\n",
      "         'cp': '11800',\n",
      "         'num': 666},\n",
      " 'email': 'Maluma_hasta_abajo@regechafa.com',\n",
      " 'nombre': 'Maluma'}\n"
     ]
    }
   ],
   "source": [
    "info_de_contacto.pop('tel')\n",
    "pprint(info_de_contacto)"
   ]
  }
 ],
 "metadata": {
  "kernelspec": {
   "display_name": "Python 3",
   "language": "python",
   "name": "python3"
  },
  "language_info": {
   "codemirror_mode": {
    "name": "ipython",
    "version": 3
   },
   "file_extension": ".py",
   "mimetype": "text/x-python",
   "name": "python",
   "nbconvert_exporter": "python",
   "pygments_lexer": "ipython3",
   "version": "3.13.2"
  }
 },
 "nbformat": 4,
 "nbformat_minor": 5
}
