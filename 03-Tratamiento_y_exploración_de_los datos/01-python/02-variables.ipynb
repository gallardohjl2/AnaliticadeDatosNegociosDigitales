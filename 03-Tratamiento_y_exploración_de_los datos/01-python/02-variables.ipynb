{
 "cells": [
  {
   "cell_type": "markdown",
   "id": "274a2467",
   "metadata": {},
   "source": [
    "## Ejemplo2: Variables\n",
    "\n",
    "### 1. Objetivos:\n",
    "\n",
    "- Entender cuál es la sintaxis de la asignación de variables en python\n",
    "- Aprender la convención de nombramiento de variables"
   ]
  },
  {
   "cell_type": "markdown",
   "id": "4fdb0020",
   "metadata": {},
   "source": [
    "### 2. Desarrollo\n",
    "\n",
    "Los siguientes nombres son nombres posibles de variables en Python:\n",
    "\n",
    "- var_1\n",
    "- variable_2\n",
    "- variable_dos\n",
    "- variable_nueva_tres\n",
    "- esta_es_una_variable_nueva"
   ]
  },
  {
   "cell_type": "markdown",
   "id": "79f82a7c",
   "metadata": {},
   "source": [
    "Los siguientes son nombres invalidos para una variable en python:\n",
    "\n",
    "- 1_2\n",
    "- 1_variable\n",
    "- variableDos\n",
    "- EstaEsUnaVariable\n",
    "- Soy una variable"
   ]
  },
  {
   "cell_type": "markdown",
   "id": "53f6de4d",
   "metadata": {},
   "source": [
    "Asignemos unas cuantas variables: "
   ]
  },
  {
   "cell_type": "code",
   "execution_count": 1,
   "id": "b9f5d83d",
   "metadata": {},
   "outputs": [],
   "source": [
    "var_1 = 3\n",
    "var_2 = 6\n",
    "variable_3 = 10\n",
    "variable_nueva_4 = 20"
   ]
  },
  {
   "cell_type": "markdown",
   "id": "bd3ed2b4",
   "metadata": {},
   "source": [
    "Podemos acceder a su contenido con tan solo escribir el nombre de la variable en una celda y correrla"
   ]
  },
  {
   "cell_type": "code",
   "execution_count": null,
   "id": "03d56951",
   "metadata": {},
   "outputs": [
    {
     "data": {
      "text/plain": [
       "20"
      ]
     },
     "execution_count": 3,
     "metadata": {},
     "output_type": "execute_result"
    }
   ],
   "source": [
    "var_1\n"
   ]
  },
  {
   "cell_type": "code",
   "execution_count": 4,
   "id": "0fa0c406",
   "metadata": {},
   "outputs": [
    {
     "data": {
      "text/plain": [
       "20"
      ]
     },
     "execution_count": 4,
     "metadata": {},
     "output_type": "execute_result"
    }
   ],
   "source": [
    "variable_nueva_4"
   ]
  },
  {
   "cell_type": "markdown",
   "id": "0ee42aed",
   "metadata": {},
   "source": [
    "Si intento llamar una variable que no se ha asignado o no existe, JN va a lanzar un error"
   ]
  },
  {
   "cell_type": "code",
   "execution_count": 6,
   "id": "dbd7e3fc",
   "metadata": {},
   "outputs": [
    {
     "ename": "NameError",
     "evalue": "name 'var_5' is not defined",
     "output_type": "error",
     "traceback": [
      "\u001b[1;31m---------------------------------------------------------------------------\u001b[0m",
      "\u001b[1;31mNameError\u001b[0m                                 Traceback (most recent call last)",
      "Cell \u001b[1;32mIn[6], line 1\u001b[0m\n\u001b[1;32m----> 1\u001b[0m \u001b[43mvar_5\u001b[49m\n",
      "\u001b[1;31mNameError\u001b[0m: name 'var_5' is not defined"
     ]
    }
   ],
   "source": [
    "var_5"
   ]
  },
  {
   "cell_type": "markdown",
   "id": "2c7ecba8",
   "metadata": {},
   "source": [
    "De igual, manera, si se escibe una asignación, pero no se corre la celda, esa variable no estara disponile para el notebook mas adelante"
   ]
  },
  {
   "cell_type": "code",
   "execution_count": 11,
   "id": "6307cf9f",
   "metadata": {},
   "outputs": [],
   "source": [
    "var_2 = 89"
   ]
  },
  {
   "cell_type": "code",
   "execution_count": 12,
   "id": "378040a2",
   "metadata": {},
   "outputs": [
    {
     "data": {
      "text/plain": [
       "89"
      ]
     },
     "execution_count": 12,
     "metadata": {},
     "output_type": "execute_result"
    }
   ],
   "source": [
    "var_2"
   ]
  },
  {
   "cell_type": "markdown",
   "id": "61d8cb5e",
   "metadata": {},
   "source": [
    "## Reto 1: Variables\n",
    "\n",
    "### 1. Objetivos:\n",
    "    - Practicar convención de nombramiento y asignación de vriables\n",
    "\n",
    "### 2. Desarrollo    \n",
    "\n",
    "Realizar la siguiente practica"
   ]
  },
  {
   "cell_type": "code",
   "execution_count": 13,
   "id": "31404442",
   "metadata": {},
   "outputs": [],
   "source": [
    "# Asigna el numero 12345 a una variable llamada variable locochona\n",
    "variable_locochona = 12345\n",
    "# Asigna el numero 14.567 a la variable var decimal\n",
    "var_decimal = 14.567\n",
    "# Asigna un número cualquiera a una variable que tenga cinco palabras en su nombre\n",
    "uno_dos_tres_cuatro_cinco = True\n",
    "# Asigna cualquier número a una varible que incluye palabras y números en su nombre\n",
    "uno_dos_123 = 'Hola Locochon'"
   ]
  }
 ],
 "metadata": {
  "kernelspec": {
   "display_name": "Python 3",
   "language": "python",
   "name": "python3"
  },
  "language_info": {
   "codemirror_mode": {
    "name": "ipython",
    "version": 3
   },
   "file_extension": ".py",
   "mimetype": "text/x-python",
   "name": "python",
   "nbconvert_exporter": "python",
   "pygments_lexer": "ipython3",
   "version": "3.13.2"
  }
 },
 "nbformat": 4,
 "nbformat_minor": 5
}
