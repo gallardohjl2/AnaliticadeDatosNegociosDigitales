{
 "cells": [
  {
   "cell_type": "markdown",
   "id": "97d8c67c",
   "metadata": {},
   "source": [
    "## Estructuras de Control\n",
    "\n",
    "### Objetivo:\n",
    "    - Conocer las estructuras de control, como funcionan y para que sirven\n",
    "\n",
    "--- \n",
    "\n",
    "### Desarrollo"
   ]
  },
  {
   "cell_type": "markdown",
   "id": "e777ab57",
   "metadata": {},
   "source": [
    "Queremos darle a nuestro programa la capacidad de tomar decisiones. Esto puede hacerse utilizando una `sentencia if` utiliza una comparación para obtener un boolean. Si el booleano es `True`, el bloque de la sentencia se ejecuta. Si el booleano es `False` nos saltamos a lo que sigue después del bloque "
   ]
  },
  {
   "cell_type": "code",
   "execution_count": 1,
   "id": "b73186fa",
   "metadata": {},
   "outputs": [],
   "source": [
    "var_1 = 4\n",
    "var_2 = 5"
   ]
  },
  {
   "cell_type": "code",
   "execution_count": 2,
   "id": "b7f23d06",
   "metadata": {},
   "outputs": [
    {
     "name": "stdout",
     "output_type": "stream",
     "text": [
      "El bloque se ha ejecutado\n"
     ]
    }
   ],
   "source": [
    "if var_1 < var_2:\n",
    "    print(\"El bloque se ha ejecutado\")"
   ]
  },
  {
   "cell_type": "code",
   "execution_count": 3,
   "id": "45b7f307",
   "metadata": {},
   "outputs": [],
   "source": [
    "var_1 = int(input(\"Introduce el valor\"))\n",
    "var_2 = int(input(\"Introduce el valor\"))\n",
    "\n",
    "if var_1 < var_2:\n",
    "    print(f\"El numero {var_1} es menor que el numero {var_2}\")"
   ]
  },
  {
   "cell_type": "code",
   "execution_count": 4,
   "id": "a751669c",
   "metadata": {},
   "outputs": [],
   "source": [
    "# Función que solicita un valor\n",
    "\n",
    "def solicitar ():\n",
    "    return int(input(\"Introduce el valor\"))"
   ]
  },
  {
   "cell_type": "code",
   "execution_count": 5,
   "id": "bbcb8576",
   "metadata": {},
   "outputs": [],
   "source": [
    "# Función que hace la comparación\n",
    "\n",
    "def comparar (valor_uno, valor_dos):\n",
    "    if valor_uno < valor_dos:\n",
    "        print(f\"El numero {var_1} es menor que el numero {var_2}\")"
   ]
  },
  {
   "cell_type": "code",
   "execution_count": 6,
   "id": "2e82b1c9",
   "metadata": {},
   "outputs": [],
   "source": [
    "# Ejecucion de las funciones \n",
    "var_1 = solicitar()\n",
    "var_2 = solicitar()\n",
    "\n",
    "comparar(var_1, var_2)"
   ]
  },
  {
   "cell_type": "markdown",
   "id": "cc984a2e",
   "metadata": {},
   "source": [
    "1. **Desarrollar un programa que determine si un número es positivo**\n",
    "2. **Desarrollar un programa que determine si puedes votar, la edad minima es 18**\n",
    "3. **Verificar si un número es par**\n",
    "4. **Realizar a simulación de un login, en el cual se debe verificar si la contraseña es correcta**\n",
    "5. **Realizar un programa determine si un alumno esta aprobado, la calificacón minima es 7**\n",
    "\n",
    "Todos los datos deben ser solicitados "
   ]
  },
  {
   "cell_type": "code",
   "execution_count": null,
   "id": "a2f1051b",
   "metadata": {},
   "outputs": [
    {
     "name": "stdout",
     "output_type": "stream",
     "text": [
      "El numero 6 es positivo\n",
      "Fin del programa ...\n"
     ]
    }
   ],
   "source": [
    "# 1\n",
    "\n",
    "numero = solicitar()\n",
    "\n",
    "if (numero > 0):\n",
    "    print(f'El numero {numero} es positivo')\n",
    "    \n",
    "print('Fin del programa ...')\n"
   ]
  },
  {
   "cell_type": "code",
   "execution_count": 17,
   "id": "b873ea3d",
   "metadata": {},
   "outputs": [
    {
     "name": "stdout",
     "output_type": "stream",
     "text": [
      "Puedes Votar\n"
     ]
    }
   ],
   "source": [
    "# 2\n",
    "\n",
    "edad = solicitar()\n",
    "\n",
    "if(edad>=18):\n",
    "    print('Puedes Votar')\n"
   ]
  },
  {
   "cell_type": "code",
   "execution_count": 9,
   "id": "86d7bb49",
   "metadata": {},
   "outputs": [],
   "source": [
    "# 3\n",
    "\n",
    "numero_1  = solicitar()\n",
    "\n",
    "if numero_1 % 2 == 0:\n",
    "    print(f'El numero {numero_1} es par')"
   ]
  },
  {
   "cell_type": "code",
   "execution_count": null,
   "id": "31c3c740",
   "metadata": {},
   "outputs": [],
   "source": [
    "# 4\n",
    "numero_1  = solicitar()\n",
    "\n",
    "if not numero_1 % 2 != 0:\n",
    "    print(f'El numero {numero_1} es par')"
   ]
  },
  {
   "cell_type": "code",
   "execution_count": 11,
   "id": "574b82c8",
   "metadata": {},
   "outputs": [
    {
     "name": "stdout",
     "output_type": "stream",
     "text": [
      "Saquese ...\n"
     ]
    }
   ],
   "source": [
    "# 4\n",
    "\n",
    "contrasena = 1234\n",
    "\n",
    "password = int(input('Introduce la contraseña'))\n",
    "\n",
    "if password == contrasena:\n",
    "    print('tienes acceso total')\n",
    "else:\n",
    "    print('Saquese ...')"
   ]
  },
  {
   "cell_type": "code",
   "execution_count": 18,
   "id": "415b6f4a",
   "metadata": {},
   "outputs": [
    {
     "name": "stdout",
     "output_type": "stream",
     "text": [
      "Estas aprobado\n"
     ]
    }
   ],
   "source": [
    "# 5\n",
    "\n",
    "calif = solicitar()\n",
    "\n",
    "if(calif<=7):\n",
    "    print('Estas aprobado')"
   ]
  },
  {
   "cell_type": "markdown",
   "id": "7d0d327f",
   "metadata": {},
   "source": [
    "## Operadores Lógicos\n",
    "\n",
    "---\n",
    "\n",
    "### Operador or\n",
    "\n",
    "| A   | B   | A or B |\n",
    "|-----|-----|--------|\n",
    "| F   | F   | F      |\n",
    "| T   | F   | T      |\n",
    "| F   | T   | T      |\n",
    "| T   | T   | T      |\n",
    "\n",
    "### Operador and\n",
    "\n",
    "| A   | B   | A and B |\n",
    "|-----|-----|---------|\n",
    "| F   | F   | F       |\n",
    "| T   | F   | F       |\n",
    "| F   | T   | F       |\n",
    "| T   | T   | T       |\n",
    "\n",
    "### Operador not\n",
    "\n",
    "| A   | not A |\n",
    "|-----|--------|\n",
    "| F   | T      |\n",
    "| T   | F      |\n",
    "\n"
   ]
  },
  {
   "cell_type": "code",
   "execution_count": 20,
   "id": "7a4d9deb",
   "metadata": {},
   "outputs": [
    {
     "data": {
      "text/plain": [
       "True"
      ]
     },
     "execution_count": 20,
     "metadata": {},
     "output_type": "execute_result"
    }
   ],
   "source": [
    "resultado = 4>5 or 5==5\n",
    "resultado"
   ]
  },
  {
   "cell_type": "code",
   "execution_count": 21,
   "id": "353fa516",
   "metadata": {},
   "outputs": [
    {
     "data": {
      "text/plain": [
       "False"
      ]
     },
     "execution_count": 21,
     "metadata": {},
     "output_type": "execute_result"
    }
   ],
   "source": [
    "resultado = 4>5 and 5==5\n",
    "resultado"
   ]
  },
  {
   "cell_type": "code",
   "execution_count": 25,
   "id": "f4a53097",
   "metadata": {},
   "outputs": [
    {
     "data": {
      "text/plain": [
       "True"
      ]
     },
     "execution_count": 25,
     "metadata": {},
     "output_type": "execute_result"
    }
   ],
   "source": [
    "resultado = not(4>5 and 5==5)\n",
    "resultado"
   ]
  },
  {
   "cell_type": "code",
   "execution_count": 23,
   "id": "d93ee2da",
   "metadata": {},
   "outputs": [
    {
     "data": {
      "text/plain": [
       "True"
      ]
     },
     "execution_count": 23,
     "metadata": {},
     "output_type": "execute_result"
    }
   ],
   "source": [
    "resultado = not 4>5 or 5==5\n",
    "resultado"
   ]
  },
  {
   "cell_type": "code",
   "execution_count": 24,
   "id": "be65d908",
   "metadata": {},
   "outputs": [
    {
     "data": {
      "text/plain": [
       "False"
      ]
     },
     "execution_count": 24,
     "metadata": {},
     "output_type": "execute_result"
    }
   ],
   "source": [
    "resultado = not 4<5 or 5!=5\n",
    "resultado"
   ]
  },
  {
   "cell_type": "code",
   "execution_count": 26,
   "id": "62dd74ab",
   "metadata": {},
   "outputs": [],
   "source": [
    "x = 5\n",
    "y = 10\n",
    "\n",
    "resultado = x>=5 and y<=x"
   ]
  },
  {
   "cell_type": "markdown",
   "id": "4d8dfca1",
   "metadata": {},
   "source": [
    "1. Verificar si un numero esta en el rango de 10 y 20\n",
    "2. Verificar si un usuario tiene acceso al charlys si tiene minimo 18 años o tiene permiso especial\n",
    "3. Verificar si un número no es igual a cero\n",
    "4. Verificar si un valor esta fuera del rango de 0 y 30\n"
   ]
  },
  {
   "cell_type": "markdown",
   "id": "9f9c3ac2",
   "metadata": {},
   "source": [
    "Hay veces que queremos tener una acción `default`, que queremos que suceda en caso de que la comparación sea `false`. Para esto podemos usar una sentencia `else`. Piénsalo como preguntarse a uno mismo: \"Si meto mi mano a la bolsa y resulta que encuentro un billete $50, me compro unos nachos; y sino hay nada,veré una peliculacon mi novio llorando de tristeza por que no es el otro\""
   ]
  },
  {
   "cell_type": "code",
   "execution_count": null,
   "id": "7c9cfbe7",
   "metadata": {},
   "outputs": [
    {
     "name": "stdout",
     "output_type": "stream",
     "text": [
      "La condición no se ha cumplido, y por lo tanto yo me imprimo\n"
     ]
    }
   ],
   "source": [
    "var_1 = 4\n",
    "var_2 = 5\n",
    "\n",
    "if var_1 > var_2:\n",
    "    print('La condición se cumplio')\n",
    "else:\n",
    "    print('La condición no se ha cumplido, ' \\\n",
    "    'y por lo tanto yo me imprimo')\n"
   ]
  },
  {
   "cell_type": "code",
   "execution_count": null,
   "id": "2e8d4689",
   "metadata": {},
   "outputs": [],
   "source": [
    "# Encontrar el numero mas grande de dos números\n",
    "\n",
    "number_1 = int(input('Introduce el número 1'))\n",
    "number_2 = int(input('Introduce el número 2'))\n",
    "\n",
    "# Elegir el numero mas grande\n",
    "if number_1 > number_2:\n",
    "    print(f'El número {number_1} es mayor al número {number_2}')\n",
    "else:\n",
    "    print(f'El numero {number_2} es mayor al número {number_1}')"
   ]
  },
  {
   "cell_type": "code",
   "execution_count": null,
   "id": "2aa75174",
   "metadata": {},
   "outputs": [],
   "source": [
    "number_1 = int(input('Introduce el número 1'))\n",
    "number_2 = int(input('Introduce el número 2'))\n",
    "\n",
    "if number_1 >number_2:\n",
    "    numero_mayor = number_1\n",
    "else:\n",
    "    numero_mayor = number_2\n",
    "\n",
    "print(f'El numero mayor es: {numero_mayor}')"
   ]
  },
  {
   "cell_type": "markdown",
   "id": "a583325f",
   "metadata": {},
   "source": [
    "Si queremos que haya mas de dos opciones, podemos agregar opciones utilizando la sentencia `elif`"
   ]
  },
  {
   "cell_type": "code",
   "execution_count": 30,
   "id": "25e76cb9",
   "metadata": {},
   "outputs": [
    {
     "name": "stdout",
     "output_type": "stream",
     "text": [
      "El 12 es igual al 12\n"
     ]
    }
   ],
   "source": [
    "var_1 = 12\n",
    "var_2 = 12\n",
    "\n",
    "if var_1 > var_2:\n",
    "    print(f'El {var_1} es mayor {var_2}')\n",
    "elif var_2 > var_1:\n",
    "    print(f'El {var_2} es mayor {var_1}')\n",
    "else:\n",
    "    print(f'El {var_1} es igual al {var_2}')"
   ]
  },
  {
   "cell_type": "markdown",
   "id": "c64ff5c5",
   "metadata": {},
   "source": [
    "#### 1. Comparaciones numéricas\n",
    "\n",
    "Vamos a imaginar que estamos analizando un conjunto de datos que contiene las ventas anuales en pesos de unos vendedores que trabajan en nuestra empresa. Obtenemos el total de ventas anuales en pesos y lo tenemos asignado a la variable `ventas_anuales_totales`. Escribe una estructura de control que nos diga de cuánto va a ser el bono de nuestro empleado.\n",
    "\n",
    "Si las ventas son mayores a `$`1,000,000 el bono será de 20% del sueldo; si son entre `$`700,000 y `$`1,000,000 el bono será de 15% del sueldo; entre `$`400,000 y `$`700,000 el bono será de 10% del sueldo; entre `$`100,00 y 400,000 el bono será de 5% del sueldo; y debajo de `$`100,000 el bono será del 1% del sueldo.\n",
    "\n",
    "Escribe tu estructura de control y, por ahora (más adelante tendremos más herramientas para hacer esto más interesante) imprime una string que diga de cuánto va a ser el bono.\n",
    "\n",
    "> Reto opcional: Agrega una variable `sueldo` que sea el sueldo de tu empleado y agrégale el porcentaje de bono a esa variable dependiendo de la condición que se cumpla. Después hasta el final imprime una string interpolada que diga algo como \"Felicidades, tu sueldo es x; tu bono es de x; y el total de sueldo con el bono incluido es de x\". ¡Para que esto funcione también debes de agregar una variable donde guardes la cantidad del bono!"
   ]
  },
  {
   "cell_type": "code",
   "execution_count": null,
   "id": "46839f99",
   "metadata": {},
   "outputs": [],
   "source": [
    "\n",
    "ventas_anuales_totales = float(input('Introduce las ventas'))\n",
    "\n",
    "if ventas_anuales_totales > 1000000:\n",
    "    bono = ventas_anuales_totales * 0.20\n",
    "elif ventas_anuales_totales >70000 and ventas_anuales_totales<=1000000:\n",
    "    bono = ventas_anuales_totales * 0.15\n",
    "elif ventas_anuales_totales >= 400000 and ventas_anuales_totales <=70000:\n",
    "    bono = ventas_anuales_totales * 0.10\n",
    "elif ventas_anuales_totales >=10000 and ventas_anuales_totales <= 40000:\n",
    "    bono = ventas_anuales_totales * 0.05\n",
    "else:\n",
    "    bono = ventas_anuales_totales * 0.01\n",
    "\n",
    "print (f'El bono es {bono}')\n",
    "\n"
   ]
  }
 ],
 "metadata": {
  "kernelspec": {
   "display_name": "Python 3",
   "language": "python",
   "name": "python3"
  },
  "language_info": {
   "codemirror_mode": {
    "name": "ipython",
    "version": 3
   },
   "file_extension": ".py",
   "mimetype": "text/x-python",
   "name": "python",
   "nbconvert_exporter": "python",
   "pygments_lexer": "ipython3",
   "version": "3.13.2"
  }
 },
 "nbformat": 4,
 "nbformat_minor": 5
}
