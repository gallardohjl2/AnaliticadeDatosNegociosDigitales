{
 "cells": [
  {
   "cell_type": "markdown",
   "id": "3f4ac8f3",
   "metadata": {},
   "source": [
    "## Operaciones númericas\n",
    "\n",
    "### Objetivos\n",
    "\n",
    "- Mostrar como utilizar los operadores aritméticos\n",
    "\n",
    "### Desarrollo"
   ]
  },
  {
   "cell_type": "markdown",
   "id": "1aa7e9d9",
   "metadata": {},
   "source": [
    "Primero vamos asignar unas variables"
   ]
  },
  {
   "cell_type": "code",
   "execution_count": 1,
   "id": "ad13f070",
   "metadata": {},
   "outputs": [],
   "source": [
    "var_1 = 4\n",
    "var_2 = 54\n",
    "var_3 = 23\n",
    "var_4 = 89"
   ]
  },
  {
   "cell_type": "code",
   "execution_count": 9,
   "id": "73efa68e",
   "metadata": {},
   "outputs": [
    {
     "name": "stdout",
     "output_type": "stream",
     "text": [
      "4 54 23 89 4-54-23-89\n",
      "El valor de la variable var_1:  4 \n",
      "El valor de la variable var_1:  54\n"
     ]
    }
   ],
   "source": [
    "print(var_1, var_2, var_3, var_4, end=\" \" )\n",
    "print(var_1, var_2, var_3, var_4, sep='-')\n",
    "\n",
    "print('El valor de la variable var_1: ' , var_1, '\\nEl valor de la variable var_1: ' , var_2)\n"
   ]
  },
  {
   "cell_type": "markdown",
   "id": "f82a0338",
   "metadata": {},
   "source": [
    "### Operaciones númericas\n",
    "\n",
    "--- \n",
    "\n",
    "**Operadores Aritméticos**\n",
    "\n",
    "| Operador | Nombre                  | Descripción                                 | Ejemplo        | Resultado |\n",
    "|----------|-------------------------|---------------------------------------------|----------------|-----------|\n",
    "| `+`      | Suma                    | Suma de dos operandos                        | `5 + 3`        | `8`       |\n",
    "| `-`      | Resta                   | Resta del segundo operando al primero        | `5 - 3`        | `2`       |\n",
    "| `*`      | Multiplicación          | Producto de dos operandos                    | `5 * 3`        | `15`      |\n",
    "| `/`      | División                | División del primero entre el segundo       | `5 / 2`        | `2.5`     |\n",
    "| `//`     | División entera         | División y redondeo hacia abajo             | `5 // 2`       | `2`       |\n",
    "| `%`      | Módulo (residuo)        | Residuo de la división                      | `5 % 2`        | `1`       |\n",
    "| `**`     | Exponente               | Potencia del primer operando al segundo     | `2 ** 3`       | `8`       |\n"
   ]
  },
  {
   "cell_type": "code",
   "execution_count": 10,
   "id": "75bec41e",
   "metadata": {},
   "outputs": [
    {
     "data": {
      "text/plain": [
       "58"
      ]
     },
     "execution_count": 10,
     "metadata": {},
     "output_type": "execute_result"
    }
   ],
   "source": [
    "var_1 + var_2"
   ]
  },
  {
   "cell_type": "code",
   "execution_count": 11,
   "id": "a0b86b0c",
   "metadata": {},
   "outputs": [
    {
     "data": {
      "text/plain": [
       "-35"
      ]
     },
     "execution_count": 11,
     "metadata": {},
     "output_type": "execute_result"
    }
   ],
   "source": [
    "var_2 - var_4"
   ]
  },
  {
   "cell_type": "code",
   "execution_count": 12,
   "id": "eb19b74a",
   "metadata": {},
   "outputs": [
    {
     "data": {
      "text/plain": [
       "92"
      ]
     },
     "execution_count": 12,
     "metadata": {},
     "output_type": "execute_result"
    }
   ],
   "source": [
    "var_3 * var_1"
   ]
  },
  {
   "cell_type": "code",
   "execution_count": 13,
   "id": "a9384151",
   "metadata": {},
   "outputs": [
    {
     "data": {
      "text/plain": [
       "1.6481481481481481"
      ]
     },
     "execution_count": 13,
     "metadata": {},
     "output_type": "execute_result"
    }
   ],
   "source": [
    "var_4 / var_2"
   ]
  },
  {
   "cell_type": "code",
   "execution_count": 14,
   "id": "02c4b1ce",
   "metadata": {},
   "outputs": [
    {
     "data": {
      "text/plain": [
       "1"
      ]
     },
     "execution_count": 14,
     "metadata": {},
     "output_type": "execute_result"
    }
   ],
   "source": [
    "var_4 // var_2"
   ]
  },
  {
   "cell_type": "code",
   "execution_count": 15,
   "id": "cc013e7d",
   "metadata": {},
   "outputs": [
    {
     "data": {
      "text/plain": [
       "0.5"
      ]
     },
     "execution_count": 15,
     "metadata": {},
     "output_type": "execute_result"
    }
   ],
   "source": [
    "1/2"
   ]
  },
  {
   "cell_type": "code",
   "execution_count": 16,
   "id": "5934c2a4",
   "metadata": {},
   "outputs": [
    {
     "data": {
      "text/plain": [
       "0"
      ]
     },
     "execution_count": 16,
     "metadata": {},
     "output_type": "execute_result"
    }
   ],
   "source": [
    "1//2"
   ]
  },
  {
   "cell_type": "code",
   "execution_count": 17,
   "id": "fb3df4b7",
   "metadata": {},
   "outputs": [
    {
     "data": {
      "text/plain": [
       "8503056"
      ]
     },
     "execution_count": 17,
     "metadata": {},
     "output_type": "execute_result"
    }
   ],
   "source": [
    "var_2 ** var_1"
   ]
  },
  {
   "cell_type": "code",
   "execution_count": 18,
   "id": "e9b03b66",
   "metadata": {},
   "outputs": [
    {
     "data": {
      "text/plain": [
       "0"
      ]
     },
     "execution_count": 18,
     "metadata": {},
     "output_type": "execute_result"
    }
   ],
   "source": [
    "var_1 = 10\n",
    "var_2 = 2\n",
    "\n",
    "var_1 % var_2"
   ]
  },
  {
   "cell_type": "code",
   "execution_count": 20,
   "id": "ae459167",
   "metadata": {},
   "outputs": [
    {
     "name": "stdout",
     "output_type": "stream",
     "text": [
      "12\n",
      "20\n",
      "100\n"
     ]
    }
   ],
   "source": [
    "print(var_1 + var_2)\n",
    "print(var_1 * var_2)\n",
    "print(var_1 ** var_2)"
   ]
  },
  {
   "cell_type": "markdown",
   "id": "c17f55fa",
   "metadata": {},
   "source": [
    "Tambien se puede asignar los resultados de las operaciones a otras variables"
   ]
  },
  {
   "cell_type": "code",
   "execution_count": 22,
   "id": "d210459d",
   "metadata": {},
   "outputs": [
    {
     "data": {
      "text/plain": [
       "33"
      ]
     },
     "execution_count": 22,
     "metadata": {},
     "output_type": "execute_result"
    }
   ],
   "source": [
    "resultado = var_1 + var_3\n",
    "resultado"
   ]
  }
 ],
 "metadata": {
  "kernelspec": {
   "display_name": "Python 3",
   "language": "python",
   "name": "python3"
  },
  "language_info": {
   "codemirror_mode": {
    "name": "ipython",
    "version": 3
   },
   "file_extension": ".py",
   "mimetype": "text/x-python",
   "name": "python",
   "nbconvert_exporter": "python",
   "pygments_lexer": "ipython3",
   "version": "3.13.2"
  }
 },
 "nbformat": 4,
 "nbformat_minor": 5
}
