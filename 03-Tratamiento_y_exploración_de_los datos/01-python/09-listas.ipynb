{
 "cells": [
  {
   "cell_type": "markdown",
   "id": "a1b40c88",
   "metadata": {},
   "source": [
    "# Listas\n",
    "\n",
    "1. Objetivos\n",
    "\n",
    "- Entender la sintaxis de las listas en python\n",
    "- Aprender a crear listas y accesarlas\n",
    "\n",
    "--- \n",
    "\n",
    "2. Desarrollo:\n"
   ]
  },
  {
   "cell_type": "markdown",
   "id": "e44cee1d",
   "metadata": {},
   "source": [
    "## Creando lista y accediendo a ellas\n",
    "\n",
    "Las listas son secuencias ordenadas. El orden de los datos en la lista es el mismo orden que tienen los datos a la hora de ser asignados. Una lista se ve así:"
   ]
  },
  {
   "cell_type": "code",
   "execution_count": 1,
   "id": "1eb5c257",
   "metadata": {},
   "outputs": [
    {
     "data": {
      "text/plain": [
       "[1, 4, 6, 2, 4]"
      ]
     },
     "execution_count": 1,
     "metadata": {},
     "output_type": "execute_result"
    }
   ],
   "source": [
    "lista_1 = [1,4,6,2,4]\n",
    "lista_1"
   ]
  },
  {
   "cell_type": "code",
   "execution_count": 2,
   "id": "61aac81d",
   "metadata": {},
   "outputs": [
    {
     "data": {
      "text/plain": [
       "list"
      ]
     },
     "execution_count": 2,
     "metadata": {},
     "output_type": "execute_result"
    }
   ],
   "source": [
    "type(lista_1)"
   ]
  },
  {
   "cell_type": "markdown",
   "id": "5e299aff",
   "metadata": {},
   "source": [
    "Cada elemento de la lista tiene un indice, que se utiliza para acceder a dicho elemento. Dado que las listas son ordenadas, los indices se van asignando secuencialmente desde el primer elemento hasta el último. El primer indice es siempre `0`, y por lo tanto el último indice es siempre `n-1`, donde `n` es el número total de elementos en la lista."
   ]
  },
  {
   "cell_type": "code",
   "execution_count": 3,
   "id": "40c99f19",
   "metadata": {},
   "outputs": [
    {
     "name": "stdout",
     "output_type": "stream",
     "text": [
      "Primer elemento de la lista: 1\n",
      "El ultimo elemento de la lista: 4\n"
     ]
    }
   ],
   "source": [
    "# imprimir el primer elemento de la lista\n",
    "print(f'Primer elemento de la lista: {lista_1[0]}')\n",
    "print(f'El ultimo elemento de la lista: {lista_1[4]}')"
   ]
  },
  {
   "cell_type": "code",
   "execution_count": 4,
   "id": "064768b7",
   "metadata": {},
   "outputs": [
    {
     "ename": "IndexError",
     "evalue": "list index out of range",
     "output_type": "error",
     "traceback": [
      "\u001b[1;31m---------------------------------------------------------------------------\u001b[0m",
      "\u001b[1;31mIndexError\u001b[0m                                Traceback (most recent call last)",
      "Cell \u001b[1;32mIn[4], line 1\u001b[0m\n\u001b[1;32m----> 1\u001b[0m \u001b[43mlista_1\u001b[49m\u001b[43m[\u001b[49m\u001b[38;5;241;43m5\u001b[39;49m\u001b[43m]\u001b[49m\n",
      "\u001b[1;31mIndexError\u001b[0m: list index out of range"
     ]
    }
   ],
   "source": [
    "lista_1[5]"
   ]
  },
  {
   "cell_type": "code",
   "execution_count": 2,
   "id": "9b32ad1d",
   "metadata": {},
   "outputs": [
    {
     "name": "stdout",
     "output_type": "stream",
     "text": [
      "Contenido de la lista: [10, 5, 7, 2, 1]\n",
      "<class 'list'>\n"
     ]
    }
   ],
   "source": [
    "numbers = [ 10, 5, 7 ,2, 1]\n",
    "\n",
    "# Imprimir el contenido de la lista \n",
    "print (f'Contenido de la lista: {numbers}')\n",
    "print(type(numbers))\n"
   ]
  },
  {
   "cell_type": "code",
   "execution_count": null,
   "id": "04462ddf",
   "metadata": {},
   "outputs": [
    {
     "data": {
      "text/plain": [
       "2"
      ]
     },
     "execution_count": 3,
     "metadata": {},
     "output_type": "execute_result"
    }
   ],
   "source": [
    "# Permite accesar al valor que se encuentra en la posición \n",
    "numbers[3]"
   ]
  },
  {
   "cell_type": "markdown",
   "id": "7f13be55",
   "metadata": {},
   "source": [
    "***Vamos asignar un nuevo valor 111 al primer elemento en la lista. Lo hacemos de la siguiente manera:***"
   ]
  },
  {
   "cell_type": "code",
   "execution_count": 5,
   "id": "a5c99e48",
   "metadata": {},
   "outputs": [
    {
     "name": "stdout",
     "output_type": "stream",
     "text": [
      "[111, 5, 7, 2, 1]\n"
     ]
    }
   ],
   "source": [
    "numbers[0] = 111\n",
    "print(numbers)"
   ]
  },
  {
   "cell_type": "code",
   "execution_count": 6,
   "id": "968c5bd5",
   "metadata": {},
   "outputs": [
    {
     "name": "stdout",
     "output_type": "stream",
     "text": [
      "[111, 1, 7, 2, 1]\n"
     ]
    }
   ],
   "source": [
    "# Copiar el valor del quinto elemento al segundo\n",
    "numbers[1] = numbers[4]\n",
    "\n",
    "print(numbers)\n"
   ]
  },
  {
   "cell_type": "code",
   "execution_count": 9,
   "id": "72713ac7",
   "metadata": {},
   "outputs": [
    {
     "name": "stdout",
     "output_type": "stream",
     "text": [
      "111\n"
     ]
    }
   ],
   "source": [
    "print(numbers [-5])"
   ]
  },
  {
   "cell_type": "markdown",
   "id": "76b41db4",
   "metadata": {},
   "source": [
    "### Eliminando Elementos de la Lista "
   ]
  },
  {
   "cell_type": "markdown",
   "id": "7ff6d4a2",
   "metadata": {},
   "source": [
    "Cualquier elemento de la lista puede ser eliminado en cualquier momento - esto se hace con una instrucción llamada `del` (eliminar). Nota: es una instrucción, no una función.\n",
    "\n",
    "Tienes que apuntar al elemento que quieres eliminar - desaparecerá de la lista y la longitud de la lista se reducirá en uno.\n",
    "\n"
   ]
  },
  {
   "cell_type": "code",
   "execution_count": 11,
   "id": "98e352c4",
   "metadata": {},
   "outputs": [
    {
     "name": "stdout",
     "output_type": "stream",
     "text": [
      "La lista actual es: [111, 1, 7, 2, 1]\n"
     ]
    }
   ],
   "source": [
    "print(f'La lista actual es: {numbers}')\n",
    "del numbers[2]"
   ]
  },
  {
   "cell_type": "code",
   "execution_count": 14,
   "id": "02651c14",
   "metadata": {},
   "outputs": [
    {
     "name": "stdout",
     "output_type": "stream",
     "text": [
      "La lista actual es: [111, 1, 2, 1]\n",
      "El tamaño de la lista es 4\n"
     ]
    }
   ],
   "source": [
    "print(f'La lista actual es: {numbers}')\n",
    "print(f'El tamaño de la lista es {len(numbers)}')"
   ]
  },
  {
   "cell_type": "code",
   "execution_count": 15,
   "id": "6f5b408f",
   "metadata": {},
   "outputs": [
    {
     "name": "stdout",
     "output_type": "stream",
     "text": [
      "La lista actual es: [111, 1, 1]\n",
      "El tamaño de la lista es 3\n"
     ]
    }
   ],
   "source": [
    "del numbers[-2]\n",
    "print(f'La lista actual es: {numbers}')\n",
    "print(f'El tamaño de la lista es {len(numbers)}')"
   ]
  },
  {
   "cell_type": "code",
   "execution_count": null,
   "id": "b89d130a",
   "metadata": {},
   "outputs": [
    {
     "name": "stdout",
     "output_type": "stream",
     "text": [
      "La lista actual es: [111, 1, 1]\n",
      "El tamaño de la lista es 3\n"
     ]
    }
   ],
   "source": [
    "lista_prueba = [ 1, 2, 4 , 6 , 2 , 11 ]\n",
    "# Remove -> Elimina o remueve la primera coicidencia de un valor que se le indica\n",
    "lista_prueba.remove(2)"
   ]
  },
  {
   "cell_type": "code",
   "execution_count": 17,
   "id": "16c673a8",
   "metadata": {},
   "outputs": [
    {
     "name": "stdout",
     "output_type": "stream",
     "text": [
      "La lista actual es: [1, 4, 6, 2, 11]\n",
      "El tamaño de la lista es 5\n"
     ]
    }
   ],
   "source": [
    "print(f'La lista actual es: {lista_prueba}')\n",
    "print(f'El tamaño de la lista es {len(lista_prueba)}')"
   ]
  },
  {
   "cell_type": "code",
   "execution_count": 30,
   "id": "146eb277",
   "metadata": {},
   "outputs": [],
   "source": [
    "lista_prueba = [ 1, 2, 4 , 6 , 2 , 11, 2 ]"
   ]
  },
  {
   "cell_type": "code",
   "execution_count": null,
   "id": "a11484ce",
   "metadata": {},
   "outputs": [],
   "source": [
    "def eliminar (valor):\n",
    "    \n",
    "    for i, x in enumerate(lista_prueba):\n",
    "       # print(f'Indice: {indice}, Elemento: {elemento} ')\n",
    "       if x == valor:\n",
    "           del lista_prueba[i]"
   ]
  },
  {
   "cell_type": "code",
   "execution_count": 32,
   "id": "f6f65bf4",
   "metadata": {},
   "outputs": [
    {
     "name": "stdout",
     "output_type": "stream",
     "text": [
      "Lista Actual [1, 2, 4, 6, 2, 11, 2]\n",
      "Lista Despues de eliminar [1, 4, 6, 11]\n"
     ]
    }
   ],
   "source": [
    "print(f'Lista Actual {lista_prueba}')\n",
    "eliminar(2)\n",
    "print(f'Lista Despues de eliminar {lista_prueba}')"
   ]
  },
  {
   "cell_type": "markdown",
   "id": "6b7a41ec",
   "metadata": {},
   "source": [
    "### Los Indices Negativos son Legales\n",
    "\n",
    "`Un elemento con indice igual a -1 es el último en la lista`"
   ]
  },
  {
   "cell_type": "code",
   "execution_count": 33,
   "id": "cf0323fc",
   "metadata": {},
   "outputs": [
    {
     "name": "stdout",
     "output_type": "stream",
     "text": [
      "El ultimo valor de la lista es: 1\n"
     ]
    }
   ],
   "source": [
    "numbers_2 = [ 111, 7, 2, 1 ]\n",
    "print(f'El ultimo valor de la lista es: {numbers_2[-1]}' )"
   ]
  },
  {
   "cell_type": "code",
   "execution_count": 34,
   "id": "514eb743",
   "metadata": {},
   "outputs": [
    {
     "name": "stdout",
     "output_type": "stream",
     "text": [
      "El ultimo valor de la lista es: 7\n"
     ]
    }
   ],
   "source": [
    "numbers_2 = [ 111, 7, 2, 1 ]\n",
    "print(f'El ultimo valor de la lista es: {numbers_2[-3]}' )"
   ]
  },
  {
   "cell_type": "markdown",
   "id": "3fe71af5",
   "metadata": {},
   "source": [
    "## Ejercicio de Listas 1"
   ]
  },
  {
   "cell_type": "code",
   "execution_count": null,
   "id": "61f36844",
   "metadata": {},
   "outputs": [],
   "source": [
    "hat_list = [1, 2, 3, 4, 5]  # Esta es una lista existente de números ocultos en el sombrero.\n",
    "\n",
    "# Paso 1: escribe una línea de código que solicite al usuario\n",
    "# reemplazar el número de en medio con un número entero ingresado por el usuario.\n",
    "\n",
    "# Paso 2: escribe aquí una línea de código que elimine el último elemento de la lista.\n",
    "\n",
    "# Paso 3: escribe aquí una línea de código que imprima la longitud de la lista existente.\n",
    "\n",
    "print(hat_list)"
   ]
  },
  {
   "cell_type": "markdown",
   "id": "8d26e2eb",
   "metadata": {},
   "source": [
    "## Agregando elementos a una lista: append() e insert()\n",
    "\n",
    "Un nuevo elemento puede ser añadido al final de la lista existente:\n",
    "\n",
    "`list.append(value)`\n",
    "\n",
    "El método `insert()`es un poco más inteligente - puede agregar un nuevo elemento en cualquierlugar de la lista, no solo al final\n",
    "\n",
    "`list.insert(location, value)`\n",
    "\n",
    "Toma dos argumentos:\n",
    "\n",
    "- el primero muestra la ubicación requerida del elemento a insertar; nota: todos los elementos existentes que ocupan ubicaciones a la derecha del nuevo elemento (incluido el que está en la posición indicada) se desplazan a la derecha, para hacer espacio para el nuevo elemento;\n",
    "-  el segundo es el elemento a insertar.\n"
   ]
  },
  {
   "cell_type": "code",
   "execution_count": null,
   "id": "8c4a6f81",
   "metadata": {},
   "outputs": [
    {
     "name": "stdout",
     "output_type": "stream",
     "text": [
      "La lista original es: [123, 8, 4, 1]\n",
      "El tamaño de la lista es: 4\n",
      "La lista despues de agregar al final es: [123, 8, 4, 1, 10]\n",
      "El tamaño de la lista es: 5\n"
     ]
    }
   ],
   "source": [
    "numbers_3 = [ 123, 8, 4, 1 ]\n",
    "print(f'La lista original es: {numbers_3}')\n",
    "print(f'El tamaño de la lista es: {len(numbers_3)}')\n",
    "\n",
    "# Agregar un valor al final de la lista con el método append\n",
    "numbers_3.append(10)\n",
    "print(f'La lista despues de agregar al final es: {numbers_3}')\n",
    "print(f'El tamaño de la lista es: {len(numbers_3)}')\n",
    "\n"
   ]
  },
  {
   "cell_type": "code",
   "execution_count": 42,
   "id": "8bd2da31",
   "metadata": {},
   "outputs": [
    {
     "name": "stdout",
     "output_type": "stream",
     "text": [
      "La lista actual es: [123, 8, 4, 1, 11]\n",
      "El tamaño de la lista es: 5\n",
      "La lista actual es: [222, 123, 8, 4, 1, 11]\n",
      "El tamaño de la lista es: 6\n"
     ]
    }
   ],
   "source": [
    "## Método insert\n",
    "print(f'La lista actual es: {numbers_3}')\n",
    "print(f'El tamaño de la lista es: {len(numbers_3)}')\n",
    "\n",
    "numbers_3.insert( 0, 222)\n",
    "print(f'La lista actual es: {numbers_3}')\n",
    "print(f'El tamaño de la lista es: {len(numbers_3)}')\n",
    "\n",
    "\n"
   ]
  },
  {
   "cell_type": "code",
   "execution_count": 49,
   "id": "1beebf62",
   "metadata": {},
   "outputs": [],
   "source": [
    "def llenar_lista_append ( valor ):\n",
    "    my_list = [] # Crea  una lista vacia\n",
    "\n",
    "    for i in range( valor ):\n",
    "        my_list.append(i+1)\n",
    "    \n",
    "    return my_list\n",
    "    "
   ]
  },
  {
   "cell_type": "code",
   "execution_count": 44,
   "id": "be38c231",
   "metadata": {},
   "outputs": [],
   "source": [
    "def imprimir_lista ( lista ):\n",
    "    print(f'La lista es: {lista}')"
   ]
  },
  {
   "cell_type": "code",
   "execution_count": 51,
   "id": "692b02ce",
   "metadata": {},
   "outputs": [
    {
     "name": "stdout",
     "output_type": "stream",
     "text": [
      "La lista es: [1, 2, 3, 4, 5, 6, 7, 8, 9, 10]\n"
     ]
    }
   ],
   "source": [
    "lista = llenar_lista_append(10)\n",
    "imprimir_lista(lista)"
   ]
  },
  {
   "cell_type": "code",
   "execution_count": 53,
   "id": "0a3fc33b",
   "metadata": {},
   "outputs": [
    {
     "name": "stdout",
     "output_type": "stream",
     "text": [
      "[5, 4, 3, 2, 1]\n"
     ]
    }
   ],
   "source": [
    "my_list = []\n",
    "\n",
    "for i in range (5):\n",
    "    my_list.insert(0, i+1)\n",
    "\n",
    "print(my_list)"
   ]
  },
  {
   "cell_type": "code",
   "execution_count": 54,
   "id": "cd33e053",
   "metadata": {},
   "outputs": [
    {
     "name": "stdout",
     "output_type": "stream",
     "text": [
      "10\n",
      "1\n",
      "8\n",
      "3\n",
      "5\n"
     ]
    }
   ],
   "source": [
    "# Recorrer la lista con un ciclo \n",
    "mi_lista = [ 10, 1, 8, 3, 5]\n",
    "\n",
    "for i in mi_lista:\n",
    "    print(i)\n"
   ]
  },
  {
   "cell_type": "code",
   "execution_count": 55,
   "id": "f13fa9f4",
   "metadata": {},
   "outputs": [
    {
     "name": "stdout",
     "output_type": "stream",
     "text": [
      "La suma de los valores de la lista es 27\n"
     ]
    }
   ],
   "source": [
    "# Sumar los valores de la lista \n",
    "total = 0\n",
    "\n",
    "for i in mi_lista:\n",
    "    total+=i\n",
    "\n",
    "print(f'La suma de los valores de la lista es {total}')"
   ]
  },
  {
   "cell_type": "markdown",
   "id": "37f0e8b6",
   "metadata": {},
   "source": [
    "#### Realizar un programa que permita almacenar varias calificaciones en una lista para despues poder sacar el promedio de ellas, utilizando una función "
   ]
  },
  {
   "cell_type": "code",
   "execution_count": null,
   "id": "78ab1166",
   "metadata": {},
   "outputs": [],
   "source": [
    "def guardar_calificaciones ( numero ):\n",
    "    lista_calificaciones = []\n",
    "    i = 1\n",
    "\n",
    "    while i<=numero:\n",
    "         calificacion = float(input(f'Solicita la calificación { i }'))\n",
    "         lista_calificaciones.append(calificacion)\n",
    "         i+=1\n",
    "    \n",
    "    return lista_calificaciones \n"
   ]
  },
  {
   "cell_type": "code",
   "execution_count": 5,
   "id": "8c36c1a2",
   "metadata": {},
   "outputs": [],
   "source": [
    "def guardar_calificaciones_2 ( numero ):\n",
    "    lista_calificaciones = []\n",
    "    i = 1\n",
    "\n",
    "    for i in range(numero):\n",
    "         calificacion = float(input(f'Solicita la calificación { i }'))\n",
    "         lista_calificaciones.append(calificacion)\n",
    "     \n",
    "    \n",
    "    return lista_calificaciones "
   ]
  },
  {
   "cell_type": "code",
   "execution_count": 6,
   "id": "dfa2046a",
   "metadata": {},
   "outputs": [
    {
     "name": "stdout",
     "output_type": "stream",
     "text": [
      "[6.7, 8.9, 10.0]\n"
     ]
    }
   ],
   "source": [
    "lista = guardar_calificaciones_2( 3 )\n",
    "print(lista)\n"
   ]
  },
  {
   "cell_type": "markdown",
   "id": "26f8c562",
   "metadata": {},
   "source": [
    "## listas en Acción \n",
    "\n",
    "Imagina que necesitas reorganizar los elementos de una lista,es decir, revertir el orden de los elementos: el primero y el quinto, asi como el segundo y el cuarto elemento serán intercambiados. El tercero permanecera intacto.\n",
    "\n",
    "Pregunta: ¿ Como se pueden intercambiar los valores de dos variables?"
   ]
  },
  {
   "cell_type": "code",
   "execution_count": null,
   "id": "bb9ca9ee",
   "metadata": {},
   "outputs": [],
   "source": [
    "variable_1 = 1\n",
    "variable_2 = 2\n",
    "\n",
    "variable_2 = variable_1\n",
    "variable_1 = variable_2"
   ]
  },
  {
   "cell_type": "code",
   "execution_count": null,
   "id": "2554cf5b",
   "metadata": {},
   "outputs": [],
   "source": [
    "variable_1 = 1\n",
    "variable_2 = 2\n",
    "\n",
    "aux = variable_1\n",
    "variable_1 = variable_2\n",
    "variable_2 = aux"
   ]
  },
  {
   "cell_type": "code",
   "execution_count": 1,
   "id": "18ac87f6",
   "metadata": {},
   "outputs": [
    {
     "name": "stdout",
     "output_type": "stream",
     "text": [
      "El valor de la variable_1 es: 2\n",
      "El valor de la variable_2 es 1 \n"
     ]
    }
   ],
   "source": [
    "variable_1 = 1\n",
    "variable_2 = 2\n",
    "\n",
    "variable_1, variable_2 = variable_2, variable_1\n",
    "\n",
    "print(f'El valor de la variable_1 es: {variable_1}\\nEl valor de la variable_2 es {variable_2} ')"
   ]
  },
  {
   "cell_type": "markdown",
   "id": "e1152f95",
   "metadata": {},
   "source": [
    "Teniendo una lista llamada mi_lista con valores, 10,1,8,3,5, intercambiar el 10 por el 5 y viceversa "
   ]
  },
  {
   "cell_type": "code",
   "execution_count": 4,
   "id": "4d5ea49a",
   "metadata": {},
   "outputs": [
    {
     "name": "stdout",
     "output_type": "stream",
     "text": [
      "[5, 3, 8, 1, 10]\n"
     ]
    }
   ],
   "source": [
    "mi_lista = [10,1,8,3,5]\n",
    "\n",
    "mi_lista[0],mi_lista[4] = mi_lista[4], mi_lista[0]\n",
    "mi_lista[1],mi_lista[-2] = mi_lista[-2], mi_lista[1]\n",
    "\n",
    "print(mi_lista)"
   ]
  }
 ],
 "metadata": {
  "kernelspec": {
   "display_name": "Python 3",
   "language": "python",
   "name": "python3"
  },
  "language_info": {
   "codemirror_mode": {
    "name": "ipython",
    "version": 3
   },
   "file_extension": ".py",
   "mimetype": "text/x-python",
   "name": "python",
   "nbconvert_exporter": "python",
   "pygments_lexer": "ipython3",
   "version": "3.13.2"
  }
 },
 "nbformat": 4,
 "nbformat_minor": 5
}
