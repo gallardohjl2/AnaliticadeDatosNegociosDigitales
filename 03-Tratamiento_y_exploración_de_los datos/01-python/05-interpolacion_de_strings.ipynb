{
 "cells": [
  {
   "cell_type": "markdown",
   "id": "0b548429",
   "metadata": {},
   "source": [
    "## Interpolación \n",
    "\n",
    "### Objetivos:\n",
    "    - Aprender a imprimir string\n",
    "    - Aprender a interpolar variables dentro de strings\n",
    "\n",
    "---\n",
    "\n",
    "### Desarrollo:\n",
    "\n",
    "\n"
   ]
  },
  {
   "cell_type": "markdown",
   "id": "65f9cd0f",
   "metadata": {},
   "source": [
    "Podemos hacer anotaciones en outputs de nuestro codigo de esta manera:"
   ]
  },
  {
   "cell_type": "code",
   "execution_count": 6,
   "id": "8447b1a6",
   "metadata": {},
   "outputs": [
    {
     "name": "stdout",
     "output_type": "stream",
     "text": [
      "Suma de var_1 y var_2\n",
      "38.7\n"
     ]
    }
   ],
   "source": [
    "var_1 = 15.3 \n",
    "var_2 = 23.4\n",
    "\n",
    "print(\"Suma de var_1 y var_2\")\n",
    "print( var_1  +  var_2 )"
   ]
  },
  {
   "cell_type": "markdown",
   "id": "4899699a",
   "metadata": {},
   "source": [
    "Pero a veces resulta necesario o deseable interpolar el valor de la variable dentro de dicho string. Para esto utilizamos las llamadas `f-strings`. El formato de una `f-strings` es el siguiente:\n",
    "\n",
    "`f\"Esto es texto {esto_es_una_variable} esto es más texto\"`\n",
    "\n",
    "Escribiendo una `f` antes de las comillas le indicamos a Python que lo que pongas dentro de las llaves (`{}`) será código de Python. En este caso, una variable asignada previamente.\n",
    "\n",
    "Ahora podemos hacer lo siguiente:"
   ]
  },
  {
   "cell_type": "code",
   "execution_count": 7,
   "id": "cf32b143",
   "metadata": {},
   "outputs": [
    {
     "name": "stdout",
     "output_type": "stream",
     "text": [
      "La suma 67.3\n"
     ]
    }
   ],
   "source": [
    "var_3 = 43\n",
    "var_4 = 24.3\n",
    "\n",
    "suma = var_3 + var_4\n",
    "\n",
    "print(f'La suma { suma }')"
   ]
  },
  {
   "cell_type": "code",
   "execution_count": 8,
   "id": "60ab001f",
   "metadata": {},
   "outputs": [
    {
     "name": "stdout",
     "output_type": "stream",
     "text": [
      "El nombre del Programa es: Chachitos y la suma de los valores 5.0 + 6.0 es: 11.0\n"
     ]
    }
   ],
   "source": [
    "nombre_programa = input('Introduce el Nombre del Programa')\n",
    "var_3 = float(input('Introduce el primer valor'))\n",
    "var_4 = float(input('Introduce el segundo valor'))\n",
    "\n",
    "suma = var_3 + var_4\n",
    "\n",
    "print(f'El nombre del Programa es: {nombre_programa} y la suma de los valores {var_3} + {var_4} es: {suma}')"
   ]
  },
  {
   "cell_type": "code",
   "execution_count": 9,
   "id": "af6156f9",
   "metadata": {},
   "outputs": [],
   "source": [
    "def sumar (numero_1, numero_2):\n",
    "    return numero_1 + numero_2"
   ]
  },
  {
   "cell_type": "code",
   "execution_count": 10,
   "id": "80d72f3c",
   "metadata": {},
   "outputs": [],
   "source": [
    "def solicitarValor ():\n",
    "    return float(input('Introduce el primer valor'))"
   ]
  },
  {
   "cell_type": "code",
   "execution_count": 11,
   "id": "259e1894",
   "metadata": {},
   "outputs": [
    {
     "name": "stdout",
     "output_type": "stream",
     "text": [
      "14.0\n"
     ]
    }
   ],
   "source": [
    "var_3 = solicitarValor()\n",
    "var_4 = solicitarValor()\n",
    "\n",
    "suma = sumar(var_3, var_4)\n",
    "\n",
    "print(suma)"
   ]
  },
  {
   "cell_type": "code",
   "execution_count": 13,
   "id": "ac953c78",
   "metadata": {},
   "outputs": [
    {
     "name": "stdout",
     "output_type": "stream",
     "text": [
      "13.0\n"
     ]
    }
   ],
   "source": [
    "def solicitarValor ():\n",
    "    return float(input('Introduce el primer valor'))\n",
    "\n",
    "var_3 = solicitarValor()\n",
    "var_4 = solicitarValor()\n",
    "\n",
    "suma = sumar(var_3, var_4)\n",
    "\n",
    "print(suma)"
   ]
  }
 ],
 "metadata": {
  "kernelspec": {
   "display_name": "Python 3",
   "language": "python",
   "name": "python3"
  },
  "language_info": {
   "codemirror_mode": {
    "name": "ipython",
    "version": 3
   },
   "file_extension": ".py",
   "mimetype": "text/x-python",
   "name": "python",
   "nbconvert_exporter": "python",
   "pygments_lexer": "ipython3",
   "version": "3.13.2"
  }
 },
 "nbformat": 4,
 "nbformat_minor": 5
}
