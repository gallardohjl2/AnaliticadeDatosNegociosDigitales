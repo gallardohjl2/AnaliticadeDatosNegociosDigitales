{
 "cells": [
  {
   "cell_type": "markdown",
   "id": "88f028e8",
   "metadata": {},
   "source": [
    "># Crear y Accesar a los Diccionarios"
   ]
  },
  {
   "cell_type": "markdown",
   "id": "6680c1b1",
   "metadata": {},
   "source": [
    "## Objetivos\n",
    "\n",
    "- Aprender a crear diccionarios con pares llaves-valor \n",
    "- Aprender a accesar a los valores guardados en el diccionario\n",
    "\n",
    "---"
   ]
  },
  {
   "cell_type": "markdown",
   "id": "f4edfbff",
   "metadata": {},
   "source": [
    "## Desarrollo:\n",
    "\n",
    "Los diccionarios se definen usando (`{}`)"
   ]
  },
  {
   "cell_type": "code",
   "execution_count": 1,
   "id": "497fc3ac",
   "metadata": {},
   "outputs": [],
   "source": [
    "diccionario_1 = {}"
   ]
  },
  {
   "cell_type": "markdown",
   "id": "7aeb30c3",
   "metadata": {},
   "source": [
    "diccionario_1 ya es un diccionario. Solo que esta vacio. Para incluir datos dentro de un diccionario, tenemos que agregar pares llave-valor dentro de las llaves ({}),. Cada par llave-valor se separa con una (,):"
   ]
  },
  {
   "cell_type": "code",
   "execution_count": 2,
   "id": "122f11f2",
   "metadata": {},
   "outputs": [],
   "source": [
    "diccionario_2 = {\n",
    "    \"llave_1\":\"valor_1\",\n",
    "    \"llave_2\":\"valor_2\",\n",
    "    \"llave_3\":\"valor_3\",\n",
    "    \"llave_4\":\"valor_4\"\n",
    "}"
   ]
  },
  {
   "cell_type": "markdown",
   "id": "668ecd08",
   "metadata": {},
   "source": [
    "Nuestras llaves pueden ser tanto `String` como `int`(pueden ser otras cosas, pero estos son los mas comúnes)"
   ]
  },
  {
   "cell_type": "code",
   "execution_count": 3,
   "id": "47a7fa55",
   "metadata": {},
   "outputs": [],
   "source": [
    "diccionario_3 = {\n",
    "    1:\"Uno\", \n",
    "    2:\"Dos\", \n",
    "    3:\"Tres\",\n",
    "    4:\"Cuatro\"\n",
    "}"
   ]
  },
  {
   "cell_type": "markdown",
   "id": "9cdc89a5",
   "metadata": {},
   "source": [
    "Nuestros valores pueden ser cualquier tipo de dato que se conozca hasta este momento."
   ]
  },
  {
   "cell_type": "code",
   "execution_count": null,
   "id": "421652c6",
   "metadata": {},
   "outputs": [],
   "source": [
    "diccionario_4 = {\n",
    "  'int': 123,\n",
    "  'float':23.56, \n",
    "  'string':'Hola', \n",
    "  'boolean': True,\n",
    "  'lista': [1,2,3,4],\n",
    "  'diccionario': {\n",
    "      1: 'uno', \n",
    "      2: 'dos'\n",
    "  }\n",
    "}"
   ]
  },
  {
   "cell_type": "markdown",
   "id": "b6213f72",
   "metadata": {},
   "source": [
    "Acceder a un diccionario es tan fácil como escribir el nombre del diccionario, agregar corchetes (`[]`) y pasarle el nombre de la llave ( o clave) que quieres acceder. Por obvias razones, un diccionario no puede tener mas de una llave con el mismo nombre. Si tenemos otras estructuras de datos dentro de nuestro diccionario, podemos acceder a los elementos dentro de ellas después de haber accedido primero a toda la estructura de datos:"
   ]
  },
  {
   "cell_type": "code",
   "execution_count": 9,
   "id": "c854c5cf",
   "metadata": {},
   "outputs": [
    {
     "name": "stdout",
     "output_type": "stream",
     "text": [
      "23.56\n",
      "True\n",
      "[1, 2, 3, 4]\n",
      "3\n",
      "dos\n"
     ]
    }
   ],
   "source": [
    "print(diccionario_4['float'])\n",
    "print(diccionario_4['boolean'])\n",
    "print(diccionario_4['lista'])\n",
    "print(diccionario_4['lista'][2])\n",
    "print(diccionario_4['diccionario'][2])"
   ]
  }
 ],
 "metadata": {
  "kernelspec": {
   "display_name": "Python 3",
   "language": "python",
   "name": "python3"
  },
  "language_info": {
   "codemirror_mode": {
    "name": "ipython",
    "version": 3
   },
   "file_extension": ".py",
   "mimetype": "text/x-python",
   "name": "python",
   "nbconvert_exporter": "python",
   "pygments_lexer": "ipython3",
   "version": "3.13.2"
  }
 },
 "nbformat": 4,
 "nbformat_minor": 5
}
