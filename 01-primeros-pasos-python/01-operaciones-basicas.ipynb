{
 "cells": [
  {
   "cell_type": "markdown",
   "id": "4c453082",
   "metadata": {},
   "source": [
    "# Operaciones Basicas en Python"
   ]
  },
  {
   "cell_type": "markdown",
   "id": "57ddfed2",
   "metadata": {},
   "source": [
    "## Declaración de Variables y asignación de datos \n",
    "\n",
    "**Se describen los tipos de datos existentes en python y la forma de imprimirlos**"
   ]
  },
  {
   "cell_type": "code",
   "execution_count": 2,
   "id": "c0d9b69b",
   "metadata": {},
   "outputs": [],
   "source": [
    "# Declaración de variable y tipos\n",
    "\n",
    "a = 1 # Variable de tipo int\n",
    "b = 2.3 # Variable de como flotante\n",
    "c= True # Variable de tipo boolean \n",
    "d = False # Variable tipo boolean\n",
    "e = \"Hola Mundo\" # Variable de Tipo Cadena\n",
    "f = 'Hola Negocios Digitales' # Variable de Tipo Cadena"
   ]
  }
 ],
 "metadata": {
  "kernelspec": {
   "display_name": "Python 3",
   "language": "python",
   "name": "python3"
  },
  "language_info": {
   "codemirror_mode": {
    "name": "ipython",
    "version": 3
   },
   "file_extension": ".py",
   "mimetype": "text/x-python",
   "name": "python",
   "nbconvert_exporter": "python",
   "pygments_lexer": "ipython3",
   "version": "3.13.2"
  }
 },
 "nbformat": 4,
 "nbformat_minor": 5
}
