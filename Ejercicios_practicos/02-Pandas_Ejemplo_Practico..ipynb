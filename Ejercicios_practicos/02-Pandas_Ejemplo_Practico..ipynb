{
 "cells": [
  {
   "cell_type": "markdown",
   "id": "19819031",
   "metadata": {},
   "source": [
    "# Guía práctica para aprender Pandas\n",
    "Este notebook te ayudará a entender las operaciones básicas con `pandas`, usando un ejemplo práctico."
   ]
  },
  {
   "cell_type": "markdown",
   "id": "2d736089",
   "metadata": {},
   "source": [
    "## 1. Inspección inicial del DataFrame"
   ]
  },
  {
   "cell_type": "code",
   "execution_count": 1,
   "id": "66306922",
   "metadata": {},
   "outputs": [
    {
     "data": {
      "text/html": [
       "<div>\n",
       "<style scoped>\n",
       "    .dataframe tbody tr th:only-of-type {\n",
       "        vertical-align: middle;\n",
       "    }\n",
       "\n",
       "    .dataframe tbody tr th {\n",
       "        vertical-align: top;\n",
       "    }\n",
       "\n",
       "    .dataframe thead th {\n",
       "        text-align: right;\n",
       "    }\n",
       "</style>\n",
       "<table border=\"1\" class=\"dataframe\">\n",
       "  <thead>\n",
       "    <tr style=\"text-align: right;\">\n",
       "      <th></th>\n",
       "      <th>Nombre</th>\n",
       "      <th>Edad</th>\n",
       "      <th>Ciudad</th>\n",
       "      <th>Salario</th>\n",
       "      <th>Departamento</th>\n",
       "    </tr>\n",
       "  </thead>\n",
       "  <tbody>\n",
       "    <tr>\n",
       "      <th>0</th>\n",
       "      <td>Ana</td>\n",
       "      <td>23</td>\n",
       "      <td>CDMX</td>\n",
       "      <td>12000</td>\n",
       "      <td>Ventas</td>\n",
       "    </tr>\n",
       "    <tr>\n",
       "      <th>1</th>\n",
       "      <td>Luis</td>\n",
       "      <td>35</td>\n",
       "      <td>Guadalajara</td>\n",
       "      <td>15000</td>\n",
       "      <td>Marketing</td>\n",
       "    </tr>\n",
       "    <tr>\n",
       "      <th>2</th>\n",
       "      <td>Carlos</td>\n",
       "      <td>45</td>\n",
       "      <td>Monterrey</td>\n",
       "      <td>18000</td>\n",
       "      <td>Ventas</td>\n",
       "    </tr>\n",
       "    <tr>\n",
       "      <th>3</th>\n",
       "      <td>Lucía</td>\n",
       "      <td>25</td>\n",
       "      <td>CDMX</td>\n",
       "      <td>12500</td>\n",
       "      <td>TI</td>\n",
       "    </tr>\n",
       "    <tr>\n",
       "      <th>4</th>\n",
       "      <td>Marta</td>\n",
       "      <td>30</td>\n",
       "      <td>Puebla</td>\n",
       "      <td>14000</td>\n",
       "      <td>TI</td>\n",
       "    </tr>\n",
       "  </tbody>\n",
       "</table>\n",
       "</div>"
      ],
      "text/plain": [
       "   Nombre  Edad       Ciudad  Salario Departamento\n",
       "0     Ana    23         CDMX    12000       Ventas\n",
       "1    Luis    35  Guadalajara    15000    Marketing\n",
       "2  Carlos    45    Monterrey    18000       Ventas\n",
       "3   Lucía    25         CDMX    12500           TI\n",
       "4   Marta    30       Puebla    14000           TI"
      ]
     },
     "execution_count": 1,
     "metadata": {},
     "output_type": "execute_result"
    }
   ],
   "source": [
    "import pandas as pd\n",
    "\n",
    "# Cargar datos desde un archivo CSV\n",
    "df = pd.read_csv('../datasets/datos_empleados.csv')\n",
    "df.head()"
   ]
  },
  {
   "cell_type": "markdown",
   "id": "2669bb4a",
   "metadata": {},
   "source": [
    "## 2. Estructura y resumen del DataFrame"
   ]
  },
  {
   "cell_type": "code",
   "execution_count": 2,
   "id": "884fe0cd",
   "metadata": {},
   "outputs": [
    {
     "name": "stdout",
     "output_type": "stream",
     "text": [
      "<class 'pandas.core.frame.DataFrame'>\n",
      "RangeIndex: 7 entries, 0 to 6\n",
      "Data columns (total 5 columns):\n",
      " #   Column        Non-Null Count  Dtype \n",
      "---  ------        --------------  ----- \n",
      " 0   Nombre        7 non-null      object\n",
      " 1   Edad          7 non-null      int64 \n",
      " 2   Ciudad        7 non-null      object\n",
      " 3   Salario       7 non-null      int64 \n",
      " 4   Departamento  7 non-null      object\n",
      "dtypes: int64(2), object(3)\n",
      "memory usage: 412.0+ bytes\n"
     ]
    }
   ],
   "source": [
    "df.info()"
   ]
  },
  {
   "cell_type": "code",
   "execution_count": 3,
   "id": "fd8480ac",
   "metadata": {},
   "outputs": [
    {
     "data": {
      "text/html": [
       "<div>\n",
       "<style scoped>\n",
       "    .dataframe tbody tr th:only-of-type {\n",
       "        vertical-align: middle;\n",
       "    }\n",
       "\n",
       "    .dataframe tbody tr th {\n",
       "        vertical-align: top;\n",
       "    }\n",
       "\n",
       "    .dataframe thead th {\n",
       "        text-align: right;\n",
       "    }\n",
       "</style>\n",
       "<table border=\"1\" class=\"dataframe\">\n",
       "  <thead>\n",
       "    <tr style=\"text-align: right;\">\n",
       "      <th></th>\n",
       "      <th>Edad</th>\n",
       "      <th>Salario</th>\n",
       "    </tr>\n",
       "  </thead>\n",
       "  <tbody>\n",
       "    <tr>\n",
       "      <th>count</th>\n",
       "      <td>7.000000</td>\n",
       "      <td>7.000000</td>\n",
       "    </tr>\n",
       "    <tr>\n",
       "      <th>mean</th>\n",
       "      <td>31.142857</td>\n",
       "      <td>14285.714286</td>\n",
       "    </tr>\n",
       "    <tr>\n",
       "      <th>std</th>\n",
       "      <td>7.335498</td>\n",
       "      <td>2078.804602</td>\n",
       "    </tr>\n",
       "    <tr>\n",
       "      <th>min</th>\n",
       "      <td>23.000000</td>\n",
       "      <td>12000.000000</td>\n",
       "    </tr>\n",
       "    <tr>\n",
       "      <th>25%</th>\n",
       "      <td>26.500000</td>\n",
       "      <td>12750.000000</td>\n",
       "    </tr>\n",
       "    <tr>\n",
       "      <th>50%</th>\n",
       "      <td>30.000000</td>\n",
       "      <td>14000.000000</td>\n",
       "    </tr>\n",
       "    <tr>\n",
       "      <th>75%</th>\n",
       "      <td>33.500000</td>\n",
       "      <td>15250.000000</td>\n",
       "    </tr>\n",
       "    <tr>\n",
       "      <th>max</th>\n",
       "      <td>45.000000</td>\n",
       "      <td>18000.000000</td>\n",
       "    </tr>\n",
       "  </tbody>\n",
       "</table>\n",
       "</div>"
      ],
      "text/plain": [
       "            Edad       Salario\n",
       "count   7.000000      7.000000\n",
       "mean   31.142857  14285.714286\n",
       "std     7.335498   2078.804602\n",
       "min    23.000000  12000.000000\n",
       "25%    26.500000  12750.000000\n",
       "50%    30.000000  14000.000000\n",
       "75%    33.500000  15250.000000\n",
       "max    45.000000  18000.000000"
      ]
     },
     "execution_count": 3,
     "metadata": {},
     "output_type": "execute_result"
    }
   ],
   "source": [
    "df.describe()"
   ]
  },
  {
   "cell_type": "markdown",
   "id": "ee009bfb",
   "metadata": {},
   "source": [
    "## 3. Selección de columnas"
   ]
  },
  {
   "cell_type": "code",
   "execution_count": 4,
   "id": "997feae9",
   "metadata": {},
   "outputs": [
    {
     "data": {
      "text/plain": [
       "0    23\n",
       "1    35\n",
       "2    45\n",
       "3    25\n",
       "4    30\n",
       "5    28\n",
       "6    32\n",
       "Name: Edad, dtype: int64"
      ]
     },
     "execution_count": 4,
     "metadata": {},
     "output_type": "execute_result"
    }
   ],
   "source": [
    "df['Edad']"
   ]
  },
  {
   "cell_type": "code",
   "execution_count": 5,
   "id": "0fb52684",
   "metadata": {},
   "outputs": [
    {
     "data": {
      "text/html": [
       "<div>\n",
       "<style scoped>\n",
       "    .dataframe tbody tr th:only-of-type {\n",
       "        vertical-align: middle;\n",
       "    }\n",
       "\n",
       "    .dataframe tbody tr th {\n",
       "        vertical-align: top;\n",
       "    }\n",
       "\n",
       "    .dataframe thead th {\n",
       "        text-align: right;\n",
       "    }\n",
       "</style>\n",
       "<table border=\"1\" class=\"dataframe\">\n",
       "  <thead>\n",
       "    <tr style=\"text-align: right;\">\n",
       "      <th></th>\n",
       "      <th>Nombre</th>\n",
       "      <th>Salario</th>\n",
       "    </tr>\n",
       "  </thead>\n",
       "  <tbody>\n",
       "    <tr>\n",
       "      <th>0</th>\n",
       "      <td>Ana</td>\n",
       "      <td>12000</td>\n",
       "    </tr>\n",
       "    <tr>\n",
       "      <th>1</th>\n",
       "      <td>Luis</td>\n",
       "      <td>15000</td>\n",
       "    </tr>\n",
       "    <tr>\n",
       "      <th>2</th>\n",
       "      <td>Carlos</td>\n",
       "      <td>18000</td>\n",
       "    </tr>\n",
       "    <tr>\n",
       "      <th>3</th>\n",
       "      <td>Lucía</td>\n",
       "      <td>12500</td>\n",
       "    </tr>\n",
       "    <tr>\n",
       "      <th>4</th>\n",
       "      <td>Marta</td>\n",
       "      <td>14000</td>\n",
       "    </tr>\n",
       "    <tr>\n",
       "      <th>5</th>\n",
       "      <td>Jorge</td>\n",
       "      <td>13000</td>\n",
       "    </tr>\n",
       "    <tr>\n",
       "      <th>6</th>\n",
       "      <td>Sofía</td>\n",
       "      <td>15500</td>\n",
       "    </tr>\n",
       "  </tbody>\n",
       "</table>\n",
       "</div>"
      ],
      "text/plain": [
       "   Nombre  Salario\n",
       "0     Ana    12000\n",
       "1    Luis    15000\n",
       "2  Carlos    18000\n",
       "3   Lucía    12500\n",
       "4   Marta    14000\n",
       "5   Jorge    13000\n",
       "6   Sofía    15500"
      ]
     },
     "execution_count": 5,
     "metadata": {},
     "output_type": "execute_result"
    }
   ],
   "source": [
    "df[['Nombre', 'Salario']]"
   ]
  },
  {
   "cell_type": "markdown",
   "id": "1deb11c3",
   "metadata": {},
   "source": [
    "## 4. Filtrado de filas\n",
    "Por ejemplo, trabajadores en CDMX"
   ]
  },
  {
   "cell_type": "code",
   "execution_count": 6,
   "id": "7364457c",
   "metadata": {},
   "outputs": [
    {
     "data": {
      "text/html": [
       "<div>\n",
       "<style scoped>\n",
       "    .dataframe tbody tr th:only-of-type {\n",
       "        vertical-align: middle;\n",
       "    }\n",
       "\n",
       "    .dataframe tbody tr th {\n",
       "        vertical-align: top;\n",
       "    }\n",
       "\n",
       "    .dataframe thead th {\n",
       "        text-align: right;\n",
       "    }\n",
       "</style>\n",
       "<table border=\"1\" class=\"dataframe\">\n",
       "  <thead>\n",
       "    <tr style=\"text-align: right;\">\n",
       "      <th></th>\n",
       "      <th>Nombre</th>\n",
       "      <th>Edad</th>\n",
       "      <th>Ciudad</th>\n",
       "      <th>Salario</th>\n",
       "      <th>Departamento</th>\n",
       "    </tr>\n",
       "  </thead>\n",
       "  <tbody>\n",
       "    <tr>\n",
       "      <th>0</th>\n",
       "      <td>Ana</td>\n",
       "      <td>23</td>\n",
       "      <td>CDMX</td>\n",
       "      <td>12000</td>\n",
       "      <td>Ventas</td>\n",
       "    </tr>\n",
       "    <tr>\n",
       "      <th>3</th>\n",
       "      <td>Lucía</td>\n",
       "      <td>25</td>\n",
       "      <td>CDMX</td>\n",
       "      <td>12500</td>\n",
       "      <td>TI</td>\n",
       "    </tr>\n",
       "    <tr>\n",
       "      <th>5</th>\n",
       "      <td>Jorge</td>\n",
       "      <td>28</td>\n",
       "      <td>CDMX</td>\n",
       "      <td>13000</td>\n",
       "      <td>Marketing</td>\n",
       "    </tr>\n",
       "  </tbody>\n",
       "</table>\n",
       "</div>"
      ],
      "text/plain": [
       "  Nombre  Edad Ciudad  Salario Departamento\n",
       "0    Ana    23   CDMX    12000       Ventas\n",
       "3  Lucía    25   CDMX    12500           TI\n",
       "5  Jorge    28   CDMX    13000    Marketing"
      ]
     },
     "execution_count": 6,
     "metadata": {},
     "output_type": "execute_result"
    }
   ],
   "source": [
    "df[df['Ciudad'] == 'CDMX']"
   ]
  },
  {
   "cell_type": "markdown",
   "id": "348203be",
   "metadata": {},
   "source": [
    "## 5. Filtrado con múltiples condiciones\n",
    "Trabajadores de CDMX y del área de TI"
   ]
  },
  {
   "cell_type": "code",
   "execution_count": 7,
   "id": "9c115e74",
   "metadata": {},
   "outputs": [
    {
     "data": {
      "text/html": [
       "<div>\n",
       "<style scoped>\n",
       "    .dataframe tbody tr th:only-of-type {\n",
       "        vertical-align: middle;\n",
       "    }\n",
       "\n",
       "    .dataframe tbody tr th {\n",
       "        vertical-align: top;\n",
       "    }\n",
       "\n",
       "    .dataframe thead th {\n",
       "        text-align: right;\n",
       "    }\n",
       "</style>\n",
       "<table border=\"1\" class=\"dataframe\">\n",
       "  <thead>\n",
       "    <tr style=\"text-align: right;\">\n",
       "      <th></th>\n",
       "      <th>Nombre</th>\n",
       "      <th>Edad</th>\n",
       "      <th>Ciudad</th>\n",
       "      <th>Salario</th>\n",
       "      <th>Departamento</th>\n",
       "    </tr>\n",
       "  </thead>\n",
       "  <tbody>\n",
       "    <tr>\n",
       "      <th>3</th>\n",
       "      <td>Lucía</td>\n",
       "      <td>25</td>\n",
       "      <td>CDMX</td>\n",
       "      <td>12500</td>\n",
       "      <td>TI</td>\n",
       "    </tr>\n",
       "  </tbody>\n",
       "</table>\n",
       "</div>"
      ],
      "text/plain": [
       "  Nombre  Edad Ciudad  Salario Departamento\n",
       "3  Lucía    25   CDMX    12500           TI"
      ]
     },
     "execution_count": 7,
     "metadata": {},
     "output_type": "execute_result"
    }
   ],
   "source": [
    "df[(df['Ciudad'] == 'CDMX') & (df['Departamento'] == 'TI')]"
   ]
  },
  {
   "cell_type": "markdown",
   "id": "4912068e",
   "metadata": {},
   "source": [
    "## 6. Ordenar filas por salario"
   ]
  },
  {
   "cell_type": "code",
   "execution_count": 8,
   "id": "5c437594",
   "metadata": {},
   "outputs": [
    {
     "data": {
      "text/html": [
       "<div>\n",
       "<style scoped>\n",
       "    .dataframe tbody tr th:only-of-type {\n",
       "        vertical-align: middle;\n",
       "    }\n",
       "\n",
       "    .dataframe tbody tr th {\n",
       "        vertical-align: top;\n",
       "    }\n",
       "\n",
       "    .dataframe thead th {\n",
       "        text-align: right;\n",
       "    }\n",
       "</style>\n",
       "<table border=\"1\" class=\"dataframe\">\n",
       "  <thead>\n",
       "    <tr style=\"text-align: right;\">\n",
       "      <th></th>\n",
       "      <th>Nombre</th>\n",
       "      <th>Edad</th>\n",
       "      <th>Ciudad</th>\n",
       "      <th>Salario</th>\n",
       "      <th>Departamento</th>\n",
       "    </tr>\n",
       "  </thead>\n",
       "  <tbody>\n",
       "    <tr>\n",
       "      <th>2</th>\n",
       "      <td>Carlos</td>\n",
       "      <td>45</td>\n",
       "      <td>Monterrey</td>\n",
       "      <td>18000</td>\n",
       "      <td>Ventas</td>\n",
       "    </tr>\n",
       "    <tr>\n",
       "      <th>6</th>\n",
       "      <td>Sofía</td>\n",
       "      <td>32</td>\n",
       "      <td>Guadalajara</td>\n",
       "      <td>15500</td>\n",
       "      <td>Ventas</td>\n",
       "    </tr>\n",
       "    <tr>\n",
       "      <th>1</th>\n",
       "      <td>Luis</td>\n",
       "      <td>35</td>\n",
       "      <td>Guadalajara</td>\n",
       "      <td>15000</td>\n",
       "      <td>Marketing</td>\n",
       "    </tr>\n",
       "    <tr>\n",
       "      <th>4</th>\n",
       "      <td>Marta</td>\n",
       "      <td>30</td>\n",
       "      <td>Puebla</td>\n",
       "      <td>14000</td>\n",
       "      <td>TI</td>\n",
       "    </tr>\n",
       "    <tr>\n",
       "      <th>5</th>\n",
       "      <td>Jorge</td>\n",
       "      <td>28</td>\n",
       "      <td>CDMX</td>\n",
       "      <td>13000</td>\n",
       "      <td>Marketing</td>\n",
       "    </tr>\n",
       "    <tr>\n",
       "      <th>3</th>\n",
       "      <td>Lucía</td>\n",
       "      <td>25</td>\n",
       "      <td>CDMX</td>\n",
       "      <td>12500</td>\n",
       "      <td>TI</td>\n",
       "    </tr>\n",
       "    <tr>\n",
       "      <th>0</th>\n",
       "      <td>Ana</td>\n",
       "      <td>23</td>\n",
       "      <td>CDMX</td>\n",
       "      <td>12000</td>\n",
       "      <td>Ventas</td>\n",
       "    </tr>\n",
       "  </tbody>\n",
       "</table>\n",
       "</div>"
      ],
      "text/plain": [
       "   Nombre  Edad       Ciudad  Salario Departamento\n",
       "2  Carlos    45    Monterrey    18000       Ventas\n",
       "6   Sofía    32  Guadalajara    15500       Ventas\n",
       "1    Luis    35  Guadalajara    15000    Marketing\n",
       "4   Marta    30       Puebla    14000           TI\n",
       "5   Jorge    28         CDMX    13000    Marketing\n",
       "3   Lucía    25         CDMX    12500           TI\n",
       "0     Ana    23         CDMX    12000       Ventas"
      ]
     },
     "execution_count": 8,
     "metadata": {},
     "output_type": "execute_result"
    }
   ],
   "source": [
    "df.sort_values(by='Salario', ascending=False)"
   ]
  },
  {
   "cell_type": "markdown",
   "id": "f11c221f",
   "metadata": {},
   "source": [
    "## 7. Crear nuevas columnas\n",
    "Por ejemplo, salario anual"
   ]
  },
  {
   "cell_type": "code",
   "execution_count": null,
   "id": "7c2decc3",
   "metadata": {},
   "outputs": [],
   "source": [
    "df['SalarioAnual'] = df['Salario'] * 12\n",
    "df.head()"
   ]
  },
  {
   "cell_type": "markdown",
   "id": "68dc1398",
   "metadata": {},
   "source": [
    "## 8. Conversión de tipos de datos\n",
    "A veces es necesario convertir columnas a otro tipo de dato, por ejemplo, 'Edad' a float."
   ]
  },
  {
   "cell_type": "code",
   "execution_count": 10,
   "id": "237a8a5e",
   "metadata": {},
   "outputs": [
    {
     "data": {
      "text/plain": [
       "Nombre           object\n",
       "Edad            float64\n",
       "Ciudad           object\n",
       "Salario           int64\n",
       "Departamento     object\n",
       "dtype: object"
      ]
     },
     "execution_count": 10,
     "metadata": {},
     "output_type": "execute_result"
    }
   ],
   "source": [
    "df['Edad'] = df['Edad'].astype(float)\n",
    "df.dtypes"
   ]
  },
  {
   "cell_type": "markdown",
   "id": "ac39f057",
   "metadata": {},
   "source": [
    "## 9. Filtrado avanzado: por rango de edad"
   ]
  },
  {
   "cell_type": "code",
   "execution_count": 9,
   "id": "39c5f44b",
   "metadata": {},
   "outputs": [
    {
     "data": {
      "text/html": [
       "<div>\n",
       "<style scoped>\n",
       "    .dataframe tbody tr th:only-of-type {\n",
       "        vertical-align: middle;\n",
       "    }\n",
       "\n",
       "    .dataframe tbody tr th {\n",
       "        vertical-align: top;\n",
       "    }\n",
       "\n",
       "    .dataframe thead th {\n",
       "        text-align: right;\n",
       "    }\n",
       "</style>\n",
       "<table border=\"1\" class=\"dataframe\">\n",
       "  <thead>\n",
       "    <tr style=\"text-align: right;\">\n",
       "      <th></th>\n",
       "      <th>Nombre</th>\n",
       "      <th>Edad</th>\n",
       "      <th>Ciudad</th>\n",
       "      <th>Salario</th>\n",
       "      <th>Departamento</th>\n",
       "    </tr>\n",
       "  </thead>\n",
       "  <tbody>\n",
       "    <tr>\n",
       "      <th>1</th>\n",
       "      <td>Luis</td>\n",
       "      <td>35</td>\n",
       "      <td>Guadalajara</td>\n",
       "      <td>15000</td>\n",
       "      <td>Marketing</td>\n",
       "    </tr>\n",
       "    <tr>\n",
       "      <th>3</th>\n",
       "      <td>Lucía</td>\n",
       "      <td>25</td>\n",
       "      <td>CDMX</td>\n",
       "      <td>12500</td>\n",
       "      <td>TI</td>\n",
       "    </tr>\n",
       "    <tr>\n",
       "      <th>4</th>\n",
       "      <td>Marta</td>\n",
       "      <td>30</td>\n",
       "      <td>Puebla</td>\n",
       "      <td>14000</td>\n",
       "      <td>TI</td>\n",
       "    </tr>\n",
       "    <tr>\n",
       "      <th>5</th>\n",
       "      <td>Jorge</td>\n",
       "      <td>28</td>\n",
       "      <td>CDMX</td>\n",
       "      <td>13000</td>\n",
       "      <td>Marketing</td>\n",
       "    </tr>\n",
       "    <tr>\n",
       "      <th>6</th>\n",
       "      <td>Sofía</td>\n",
       "      <td>32</td>\n",
       "      <td>Guadalajara</td>\n",
       "      <td>15500</td>\n",
       "      <td>Ventas</td>\n",
       "    </tr>\n",
       "  </tbody>\n",
       "</table>\n",
       "</div>"
      ],
      "text/plain": [
       "  Nombre  Edad       Ciudad  Salario Departamento\n",
       "1   Luis    35  Guadalajara    15000    Marketing\n",
       "3  Lucía    25         CDMX    12500           TI\n",
       "4  Marta    30       Puebla    14000           TI\n",
       "5  Jorge    28         CDMX    13000    Marketing\n",
       "6  Sofía    32  Guadalajara    15500       Ventas"
      ]
     },
     "execution_count": 9,
     "metadata": {},
     "output_type": "execute_result"
    }
   ],
   "source": [
    "df[(df['Edad'] >= 25) & (df['Edad'] <= 35)]"
   ]
  },
  {
   "cell_type": "markdown",
   "id": "775239d7",
   "metadata": {},
   "source": [
    "## 10. Filtrado avanzado: por múltiples ciudades"
   ]
  },
  {
   "cell_type": "code",
   "execution_count": 11,
   "id": "29bd759a",
   "metadata": {},
   "outputs": [
    {
     "data": {
      "text/html": [
       "<div>\n",
       "<style scoped>\n",
       "    .dataframe tbody tr th:only-of-type {\n",
       "        vertical-align: middle;\n",
       "    }\n",
       "\n",
       "    .dataframe tbody tr th {\n",
       "        vertical-align: top;\n",
       "    }\n",
       "\n",
       "    .dataframe thead th {\n",
       "        text-align: right;\n",
       "    }\n",
       "</style>\n",
       "<table border=\"1\" class=\"dataframe\">\n",
       "  <thead>\n",
       "    <tr style=\"text-align: right;\">\n",
       "      <th></th>\n",
       "      <th>Nombre</th>\n",
       "      <th>Edad</th>\n",
       "      <th>Ciudad</th>\n",
       "      <th>Salario</th>\n",
       "      <th>Departamento</th>\n",
       "    </tr>\n",
       "  </thead>\n",
       "  <tbody>\n",
       "    <tr>\n",
       "      <th>0</th>\n",
       "      <td>Ana</td>\n",
       "      <td>23.0</td>\n",
       "      <td>CDMX</td>\n",
       "      <td>12000</td>\n",
       "      <td>Ventas</td>\n",
       "    </tr>\n",
       "    <tr>\n",
       "      <th>1</th>\n",
       "      <td>Luis</td>\n",
       "      <td>35.0</td>\n",
       "      <td>Guadalajara</td>\n",
       "      <td>15000</td>\n",
       "      <td>Marketing</td>\n",
       "    </tr>\n",
       "    <tr>\n",
       "      <th>3</th>\n",
       "      <td>Lucía</td>\n",
       "      <td>25.0</td>\n",
       "      <td>CDMX</td>\n",
       "      <td>12500</td>\n",
       "      <td>TI</td>\n",
       "    </tr>\n",
       "    <tr>\n",
       "      <th>5</th>\n",
       "      <td>Jorge</td>\n",
       "      <td>28.0</td>\n",
       "      <td>CDMX</td>\n",
       "      <td>13000</td>\n",
       "      <td>Marketing</td>\n",
       "    </tr>\n",
       "    <tr>\n",
       "      <th>6</th>\n",
       "      <td>Sofía</td>\n",
       "      <td>32.0</td>\n",
       "      <td>Guadalajara</td>\n",
       "      <td>15500</td>\n",
       "      <td>Ventas</td>\n",
       "    </tr>\n",
       "  </tbody>\n",
       "</table>\n",
       "</div>"
      ],
      "text/plain": [
       "  Nombre  Edad       Ciudad  Salario Departamento\n",
       "0    Ana  23.0         CDMX    12000       Ventas\n",
       "1   Luis  35.0  Guadalajara    15000    Marketing\n",
       "3  Lucía  25.0         CDMX    12500           TI\n",
       "5  Jorge  28.0         CDMX    13000    Marketing\n",
       "6  Sofía  32.0  Guadalajara    15500       Ventas"
      ]
     },
     "execution_count": 11,
     "metadata": {},
     "output_type": "execute_result"
    }
   ],
   "source": [
    "df[df['Ciudad'].isin(['CDMX', 'Guadalajara'])]"
   ]
  },
  {
   "cell_type": "markdown",
   "id": "996150dc",
   "metadata": {},
   "source": [
    "## 11. Filtrado por nombres que empiezan con una letra\n",
    "Usamos `.str.startswith()`"
   ]
  },
  {
   "cell_type": "code",
   "execution_count": 12,
   "id": "2dc59d6d",
   "metadata": {},
   "outputs": [
    {
     "data": {
      "text/html": [
       "<div>\n",
       "<style scoped>\n",
       "    .dataframe tbody tr th:only-of-type {\n",
       "        vertical-align: middle;\n",
       "    }\n",
       "\n",
       "    .dataframe tbody tr th {\n",
       "        vertical-align: top;\n",
       "    }\n",
       "\n",
       "    .dataframe thead th {\n",
       "        text-align: right;\n",
       "    }\n",
       "</style>\n",
       "<table border=\"1\" class=\"dataframe\">\n",
       "  <thead>\n",
       "    <tr style=\"text-align: right;\">\n",
       "      <th></th>\n",
       "      <th>Nombre</th>\n",
       "      <th>Edad</th>\n",
       "      <th>Ciudad</th>\n",
       "      <th>Salario</th>\n",
       "      <th>Departamento</th>\n",
       "    </tr>\n",
       "  </thead>\n",
       "  <tbody>\n",
       "    <tr>\n",
       "      <th>1</th>\n",
       "      <td>Luis</td>\n",
       "      <td>35.0</td>\n",
       "      <td>Guadalajara</td>\n",
       "      <td>15000</td>\n",
       "      <td>Marketing</td>\n",
       "    </tr>\n",
       "    <tr>\n",
       "      <th>3</th>\n",
       "      <td>Lucía</td>\n",
       "      <td>25.0</td>\n",
       "      <td>CDMX</td>\n",
       "      <td>12500</td>\n",
       "      <td>TI</td>\n",
       "    </tr>\n",
       "  </tbody>\n",
       "</table>\n",
       "</div>"
      ],
      "text/plain": [
       "  Nombre  Edad       Ciudad  Salario Departamento\n",
       "1   Luis  35.0  Guadalajara    15000    Marketing\n",
       "3  Lucía  25.0         CDMX    12500           TI"
      ]
     },
     "execution_count": 12,
     "metadata": {},
     "output_type": "execute_result"
    }
   ],
   "source": [
    "df[df['Nombre'].str.startswith('L')]"
   ]
  },
  {
   "cell_type": "markdown",
   "id": "c72524e4",
   "metadata": {},
   "source": [
    "## 12. Agrupaciones\n",
    "Agrupar por 'Departamento' y obtener el salario promedio."
   ]
  },
  {
   "cell_type": "code",
   "execution_count": 13,
   "id": "a20323a4",
   "metadata": {},
   "outputs": [
    {
     "data": {
      "text/plain": [
       "Departamento\n",
       "Marketing    14000.000000\n",
       "TI           13250.000000\n",
       "Ventas       15166.666667\n",
       "Name: Salario, dtype: float64"
      ]
     },
     "execution_count": 13,
     "metadata": {},
     "output_type": "execute_result"
    }
   ],
   "source": [
    "df.groupby('Departamento')['Salario'].mean()"
   ]
  },
  {
   "cell_type": "markdown",
   "id": "89d129a0",
   "metadata": {},
   "source": [
    "## 13. Eliminación de duplicados\n",
    "Vamos a duplicar un registro y luego eliminarlo."
   ]
  },
  {
   "cell_type": "code",
   "execution_count": null,
   "id": "c0e5ccb1",
   "metadata": {},
   "outputs": [],
   "source": [
    "df = pd.concat([df, df.iloc[[0]]])  # duplicamos\n",
    "print('Antes de eliminar duplicados:', len(df))\n",
    "df = df.drop_duplicates()\n",
    "print('Después de eliminar duplicados:', len(df))"
   ]
  },
  {
   "cell_type": "markdown",
   "id": "c6703cba",
   "metadata": {},
   "source": [
    "## 14. Tablas dinámicas (Pivot Tables)\n",
    "Resumen de salario promedio por ciudad y departamento."
   ]
  },
  {
   "cell_type": "code",
   "execution_count": null,
   "id": "e8032b37",
   "metadata": {},
   "outputs": [],
   "source": [
    "df.pivot_table(values='Salario', index='Ciudad', columns='Departamento', aggfunc='mean', fill_value=0)"
   ]
  },
  {
   "cell_type": "markdown",
   "id": "66f4a664",
   "metadata": {},
   "source": [
    "## 15. Segmentación e indexación de DataFrames\n",
    "Usamos `.loc[]` y `.iloc[]` para acceder a partes del DataFrame."
   ]
  },
  {
   "cell_type": "code",
   "execution_count": null,
   "id": "b59f94b7",
   "metadata": {},
   "outputs": [],
   "source": [
    "df.loc[0:2, ['Nombre', 'Salario']]  # por etiquetas\n",
    "# También con iloc (por posiciones)\n",
    "df.iloc[0:3, 0:2]"
   ]
  },
  {
   "cell_type": "markdown",
   "id": "f89b8484",
   "metadata": {},
   "source": [
    "## 16. Manejo de valores ausentes\n",
    "Agregamos valores nulos y mostramos cómo detectarlos."
   ]
  },
  {
   "cell_type": "code",
   "execution_count": null,
   "id": "e6b3a6e8",
   "metadata": {},
   "outputs": [],
   "source": [
    "df.loc[1, 'Salario'] = None\n",
    "\n",
    "# Detectar valores nulos\n",
    "df.isnull().sum()"
   ]
  },
  {
   "cell_type": "markdown",
   "id": "b5699931",
   "metadata": {},
   "source": [
    "## 17. Eliminación de valores ausentes"
   ]
  },
  {
   "cell_type": "code",
   "execution_count": null,
   "id": "759f5e71",
   "metadata": {},
   "outputs": [],
   "source": [
    "df_sin_nulos = df.dropna()\n",
    "df_sin_nulos"
   ]
  },
  {
   "cell_type": "markdown",
   "id": "7d0bf73f",
   "metadata": {},
   "source": [
    "## 18. Sustitución de valores ausentes"
   ]
  },
  {
   "cell_type": "code",
   "execution_count": null,
   "id": "623a72fc",
   "metadata": {},
   "outputs": [],
   "source": [
    "df['Salario'] = df['Salario'].fillna(df['Salario'].mean())\n",
    "df.head()"
   ]
  },
  {
   "cell_type": "markdown",
   "id": "1d0d2e4a",
   "metadata": {},
   "source": [
    "## 19. Visualización de datos con Matplotlib\n",
    "Utilizaremos `matplotlib` para crear algunos gráficos básicos que nos ayuden a visualizar la información del DataFrame."
   ]
  },
  {
   "cell_type": "code",
   "execution_count": null,
   "id": "0235bd76",
   "metadata": {},
   "outputs": [],
   "source": [
    "import matplotlib.pyplot as plt\n",
    "%matplotlib inline"
   ]
  },
  {
   "cell_type": "markdown",
   "id": "2baa1947",
   "metadata": {},
   "source": [
    "### Histograma de edades"
   ]
  },
  {
   "cell_type": "code",
   "execution_count": null,
   "id": "9aeafc18",
   "metadata": {},
   "outputs": [],
   "source": [
    "plt.hist(df['Edad'], bins=5, color='skyblue', edgecolor='black')\n",
    "plt.title('Distribución de edades')\n",
    "plt.xlabel('Edad')\n",
    "plt.ylabel('Frecuencia')\n",
    "plt.show()"
   ]
  },
  {
   "cell_type": "markdown",
   "id": "badc9922",
   "metadata": {},
   "source": [
    "### Gráfico de barras: Salario por persona"
   ]
  },
  {
   "cell_type": "code",
   "execution_count": null,
   "id": "9becd01c",
   "metadata": {},
   "outputs": [],
   "source": [
    "plt.figure(figsize=(10, 5))\n",
    "plt.bar(df['Nombre'], df['Salario'], color='green')\n",
    "plt.title('Salario por persona')\n",
    "plt.xlabel('Nombre')\n",
    "plt.ylabel('Salario')\n",
    "plt.xticks(rotation=45)\n",
    "plt.tight_layout()\n",
    "plt.show()"
   ]
  },
  {
   "cell_type": "markdown",
   "id": "69b75a0c",
   "metadata": {},
   "source": [
    "### Gráfico circular: Distribución por departamento"
   ]
  },
  {
   "cell_type": "code",
   "execution_count": null,
   "id": "48595f14",
   "metadata": {},
   "outputs": [],
   "source": [
    "df['Departamento'].value_counts().plot.pie(autopct='%1.1f%%', figsize=(6,6))\n",
    "plt.title('Distribución de empleados por departamento')\n",
    "plt.ylabel('')\n",
    "plt.show()"
   ]
  },
  {
   "cell_type": "markdown",
   "id": "c07c38ca",
   "metadata": {},
   "source": [
    "## 20. Uso de la función `.agg()` en Pandas\n",
    "La función `.agg()` permite aplicar una o más funciones de agregación sobre columnas específicas de un DataFrame o luego de una agrupación con `groupby()`."
   ]
  },
  {
   "cell_type": "markdown",
   "id": "6aedd3fc",
   "metadata": {},
   "source": [
    "### Agregación simple a todo el DataFrame"
   ]
  },
  {
   "cell_type": "code",
   "execution_count": null,
   "id": "b6e1d7a1",
   "metadata": {},
   "outputs": [],
   "source": [
    "df.agg(['mean', 'max'])"
   ]
  },
  {
   "cell_type": "markdown",
   "id": "2017a3c2",
   "metadata": {},
   "source": [
    "### Agregación personalizada por columna"
   ]
  },
  {
   "cell_type": "code",
   "execution_count": null,
   "id": "e44fcbb4",
   "metadata": {},
   "outputs": [],
   "source": [
    "df.agg({\n",
    "    'Edad': ['mean', 'min'],\n",
    "    'Salario': ['sum', 'max']\n",
    "})"
   ]
  },
  {
   "cell_type": "markdown",
   "id": "a5884a25",
   "metadata": {},
   "source": [
    "### Agregación después de agrupar con `groupby()`"
   ]
  },
  {
   "cell_type": "code",
   "execution_count": null,
   "id": "86abc8f5",
   "metadata": {},
   "outputs": [],
   "source": [
    "df.groupby('Departamento').agg({\n",
    "    'Salario': ['mean', 'min', 'max'],\n",
    "    'Edad': 'median'\n",
    "})"
   ]
  },
  {
   "cell_type": "markdown",
   "id": "a71a36d4",
   "metadata": {},
   "source": [
    "## 🧠 Ejercicios prácticos con `.agg()`\n",
    "Pon en práctica lo aprendido con estos ejercicios."
   ]
  },
  {
   "cell_type": "markdown",
   "id": "dcea7d55",
   "metadata": {},
   "source": [
    "### Ejercicio 1: Promedio de edad y salario\n",
    "Usa `.agg()` para obtener el promedio de edad y salario del DataFrame."
   ]
  },
  {
   "cell_type": "code",
   "execution_count": null,
   "id": "61a260c2",
   "metadata": {},
   "outputs": [],
   "source": [
    "# Escribe tu código aquí\n",
    "df.agg({'Edad': 'mean', 'Salario': 'mean'})"
   ]
  },
  {
   "cell_type": "markdown",
   "id": "56ce251d",
   "metadata": {},
   "source": [
    "### Ejercicio 2: Agrupa por 'Ciudad' y muestra el salario mínimo y máximo usando `.agg()`"
   ]
  },
  {
   "cell_type": "code",
   "execution_count": null,
   "id": "1aa91c40",
   "metadata": {},
   "outputs": [],
   "source": [
    "# Escribe tu código aquí\n",
    "df.groupby('Ciudad').agg({'Salario': ['min', 'max']})"
   ]
  },
  {
   "cell_type": "markdown",
   "id": "89f57934",
   "metadata": {},
   "source": [
    "### Ejercicio 3: Agrupa por 'Departamento' y calcula:\n",
    "- Edad promedio\n",
    "- Salario total\n",
    "- Salario máximo"
   ]
  },
  {
   "cell_type": "code",
   "execution_count": null,
   "id": "8777db1e",
   "metadata": {},
   "outputs": [],
   "source": [
    "# Escribe tu código aquí\n",
    "df.groupby('Departamento').agg({\n",
    "    'Edad': 'mean',\n",
    "    'Salario': ['sum', 'max']\n",
    "})"
   ]
  }
 ],
 "metadata": {
  "kernelspec": {
   "display_name": "Python 3",
   "language": "python",
   "name": "python3"
  },
  "language_info": {
   "codemirror_mode": {
    "name": "ipython",
    "version": 3
   },
   "file_extension": ".py",
   "mimetype": "text/x-python",
   "name": "python",
   "nbconvert_exporter": "python",
   "pygments_lexer": "ipython3",
   "version": "3.13.2"
  }
 },
 "nbformat": 4,
 "nbformat_minor": 5
}
